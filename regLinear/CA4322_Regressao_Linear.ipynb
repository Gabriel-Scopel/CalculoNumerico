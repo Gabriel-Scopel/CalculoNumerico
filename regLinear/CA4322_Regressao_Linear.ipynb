{
  "cells": [
    {
      "cell_type": "markdown",
      "metadata": {
        "id": "DzW76U3yPAIC"
      },
      "source": [
        "### **Exemplo Coeficiente de Correlação**"
      ]
    },
    {
      "cell_type": "code",
      "execution_count": 18,
      "metadata": {
        "colab": {
          "base_uri": "https://localhost:8080/"
        },
        "id": "72DA4PLIP881",
        "outputId": "da2bd0b4-418e-45b1-ab20-cfaa4bea21ef"
      },
      "outputs": [
        {
          "name": "stdout",
          "output_type": "stream",
          "text": [
            "[[1.         0.91382995]\n",
            " [0.91382995 1.        ]]\n"
          ]
        }
      ],
      "source": [
        "#Exemplo 1 – função corrcoef\n",
        "import numpy as np\n",
        "x=[2, 4, 5, 8, 9, 10, 5];\n",
        "y=[4, 9, 7, 10, 11, 15, 8];\n",
        "correlacao = np.corrcoef(x, y)\n",
        "print(correlacao)\n",
        "#a diagonal principal é sempre 1, a secundária representa a correlação que queremos saber"
      ]
    },
    {
      "cell_type": "markdown",
      "metadata": {
        "id": "kf9Xa2psQB1h"
      },
      "source": [
        "# **Exemplo Coeficiente de Determinação R2**"
      ]
    },
    {
      "cell_type": "code",
      "execution_count": 19,
      "metadata": {
        "colab": {
          "base_uri": "https://localhost:8080/"
        },
        "id": "wCV4UtLTQmcn",
        "outputId": "b2629336-9de7-42b3-ab82-a1d56f356777"
      },
      "outputs": [
        {
          "name": "stdout",
          "output_type": "stream",
          "text": [
            "R2: 0.040342914775592376\n"
          ]
        }
      ],
      "source": [
        "#coeficiente de determinação mede a variabilidade em porcentagem\n",
        "#ex) 92% da variável dependente y se justifica pela variável independente x e 8% não\n",
        "from sklearn.linear_model import LinearRegression\n",
        "from sklearn.metrics import r2_score\n",
        "\n",
        "x=[4,8,7,12,12,8,7,8,4,7]\n",
        "y=[4,5,5,6,5,4,4,5,6,6]\n",
        "x = np.array(x)\n",
        "x = x.reshape(-1, 1)\n",
        "modelo = LinearRegression().fit(x, y)\n",
        "R2 = r2_score(y, modelo.predict(x))\n",
        "print('R2:', R2)\n"
      ]
    },
    {
      "cell_type": "markdown",
      "metadata": {
        "id": "SnaBmr7_Q8Eo"
      },
      "source": [
        "# **Gráfico de Dispersão**"
      ]
    },
    {
      "cell_type": "code",
      "execution_count": 20,
      "metadata": {
        "colab": {
          "base_uri": "https://localhost:8080/",
          "height": 284
        },
        "id": "7ETOEmGfPAID",
        "outputId": "89dadd6f-b6a4-41fb-8367-92095ee0e7ec"
      },
      "outputs": [
        {
          "data": {
            "image/png": "[encoded data removed]",
            "text/plain": [
              "<Figure size 432x288 with 1 Axes>"
            ]
          },
          "metadata": {
            "needs_background": "light"
          },
          "output_type": "display_data"
        }
      ],
      "source": [
        "import numpy as np\n",
        "import matplotlib.pyplot as plt\n",
        "\n",
        "# define os dados\n",
        "x = np.array([-1,0,1,2]) \n",
        "y = np.array([10,1,-2,5]) \n",
        "plt.plot(x, y, 'bo')\n",
        "plt.ylabel(\"x\", fontsize = 15)\n",
        "plt.xlabel(\"y\", fontsize = 15)\n",
        "plt.show(True) \n"
      ]
    },
    {
      "cell_type": "markdown",
      "metadata": {
        "id": "ai9a3lZMRIoL"
      },
      "source": [
        "# **Calculando a0 e a1 pelas fórmulas correspondentes.**"
      ]
    },
    {
      "cell_type": "code",
      "execution_count": 2,
      "metadata": {
        "id": "1f-NAf9QPAIF"
      },
      "outputs": [],
      "source": [
        "n = np.size(x) \n",
        "Sx= np.sum(x)\n",
        "Sy=np.sum(y)\n",
        "Sxy=np.sum(x*y)\n",
        "Sxx=np.sum(x*x)   \n",
        "a1=(n*Sxy-Sx*Sy)/(n*Sxx-Sx**2)   #Calcula o coeficiente a1 da reta\n",
        "a0=(Sxx*Sy-Sxy*Sx)/(n*Sxx-Sx**2) #Calcula o coeficiente a0 da reta\n"
      ]
    },
    {
      "cell_type": "markdown",
      "metadata": {
        "id": "LkQMKLX5RUS1"
      },
      "source": [
        "# **Gráfico da Reta Ajustada**"
      ]
    },
    {
      "cell_type": "code",
      "execution_count": 22,
      "metadata": {
        "colab": {
          "base_uri": "https://localhost:8080/",
          "height": 284
        },
        "id": "MZbRhppgPAIF",
        "outputId": "13039a10-2d32-4404-a64d-1f139f000440"
      },
      "outputs": [
        {
          "data": {
            "image/png": "[encoded data removed]",
            "text/plain": [
              "<Figure size 432x288 with 1 Axes>"
            ]
          },
          "metadata": {
            "needs_background": "light"
          },
          "output_type": "display_data"
        }
      ],
      "source": [
        "# mostra os dados\n",
        "plt.scatter(x, y, color = \"b\", marker = \"o\", s = 50) \n",
        "  # prediz os valores\n",
        "y_pred = a0 + a1*x \n",
        "    # mostra a reta de regressão\n",
        "plt.plot(x, y_pred, color = \"r\") \n",
        "  \n",
        "plt.xlabel('x', fontsize = 15) \n",
        "plt.ylabel('y', fontsize = 15) \n",
        "plt.show(True) \n"
      ]
    },
    {
      "cell_type": "markdown",
      "metadata": {
        "id": "lXkY1JcgRa6C"
      },
      "source": [
        "# **Cálculo do Resíduo do Ajuste**"
      ]
    },
    {
      "cell_type": "code",
      "execution_count": 23,
      "metadata": {
        "colab": {
          "base_uri": "https://localhost:8080/"
        },
        "id": "EJMX5YCKPAIF",
        "outputId": "584b3048-c4c7-4398-c2b7-2ac89a5172ce"
      },
      "outputs": [
        {
          "name": "stdout",
          "output_type": "stream",
          "text": [
            "RS: 64.8\n"
          ]
        }
      ],
      "source": [
        "#funcao que calcula o Residuo\n",
        "def Residuo(x,y,b0,b1):\n",
        "    n = len(y)\n",
        "    RS = 0\n",
        "    for i in range(0,n):\n",
        "         y_pred=b0+b1*x[i]\n",
        "         RS = RS + (y[i]-y_pred)**2\n",
        "    return RS\n",
        "print('RS:', Residuo(x,y,a0,a1))"
      ]
    },
    {
      "cell_type": "markdown",
      "metadata": {
        "id": "eiWKEVK9SF7k"
      },
      "source": [
        "# **Calculando a0 e a1 por sistema linear**"
      ]
    },
    {
      "cell_type": "code",
      "execution_count": 24,
      "metadata": {
        "colab": {
          "base_uri": "https://localhost:8080/"
        },
        "id": "SclDV490PAIG",
        "outputId": "7abbf638-f881-486e-fc9c-3c4f35222b55"
      },
      "outputs": [
        {
          "name": "stdout",
          "output_type": "stream",
          "text": [
            "20.00\n",
            "Resultado do sistema linear\n",
            "[[ 4.4]\n",
            " [-1.8]]\n"
          ]
        }
      ],
      "source": [
        "#cria a matriz A\n",
        "matriz_A=np.matrix([[n,Sx],[Sx,Sxx]])\n",
        "#cria a matriz B\n",
        "matriz_B=([[Sy],[Sxy],])\n",
        "#calcula o determinante de A\n",
        "print(\"%.2f\" %np.linalg.det(matriz_A))\n",
        "#cria a matriz inversa de A\n",
        "matriz_A_inv=np.linalg.inv(matriz_A)\n",
        "#Resolve o sistema linear\n",
        "sol=matriz_A_inv*matriz_B\n",
        "print(\"Resultado do sistema linear\")\n",
        "print(sol)\n"
      ]
    },
    {
      "cell_type": "code",
      "execution_count": 25,
      "metadata": {
        "colab": {
          "base_uri": "https://localhost:8080/",
          "height": 284
        },
        "id": "m063aW_dPAIG",
        "outputId": "9869593d-661f-4dd2-b18e-54367329483a"
      },
      "outputs": [
        {
          "data": {
            "image/png": "[encoded data removed]",
            "text/plain": [
              "<Figure size 432x288 with 1 Axes>"
            ]
          },
          "metadata": {
            "needs_background": "light"
          },
          "output_type": "display_data"
        }
      ],
      "source": [
        "# mostra os dados\n",
        "plt.scatter(x, y, color = \"b\", marker = \"o\", s = 50) \n",
        "a0=sol[0,0]  \n",
        "a1=sol[1,0]\n",
        "    # prediz os valores\n",
        "y_pred = a0 + a1*x \n",
        "  \n",
        "    # mostra a reta de regressão\n",
        "plt.plot(x, y_pred, color = \"r\") \n",
        "  \n",
        "plt.xlabel('x', fontsize = 15) \n",
        "plt.ylabel('y', fontsize = 15) \n",
        "plt.show(True) \n"
      ]
    },
    {
      "cell_type": "code",
      "execution_count": 26,
      "metadata": {
        "colab": {
          "base_uri": "https://localhost:8080/"
        },
        "id": "JCA_vT4EPAIG",
        "outputId": "0f89e071-abe7-4da6-af34-80c0f4d27abb"
      },
      "outputs": [
        {
          "name": "stdout",
          "output_type": "stream",
          "text": [
            "RS: 64.80000000000001\n"
          ]
        }
      ],
      "source": [
        "#funcao que calcula o RS\n",
        "def Residuo(x,y,b0,b1):\n",
        "    n = len(y)\n",
        "    RS = 0\n",
        "    for i in range(0,n):\n",
        "         y_pred=b0+b1*x[i]\n",
        "         RS = RS + (y[i]-y_pred)**2\n",
        "    return RS\n",
        "print('RS:', Residuo(x,y,a0,a1))"
      ]
    },
    {
      "cell_type": "markdown",
      "metadata": {
        "id": "bt5b3yPJS90g"
      },
      "source": [
        "# **Regressão linear simples com scikit-learn**"
      ]
    },
    {
      "cell_type": "code",
      "execution_count": null,
      "metadata": {
        "id": "5DgTuXFgPAIG",
        "outputId": "782c0d36-1054-468f-9dd5-83ad8a6979e9"
      },
      "outputs": [
        {
          "name": "stdout",
          "output_type": "stream",
          "text": [
            "[[ 5]\n",
            " [15]\n",
            " [25]\n",
            " [35]\n",
            " [45]\n",
            " [55]]\n",
            "[ 5 20 14 32 22 38]\n"
          ]
        }
      ],
      "source": [
        "import sympy as sy\n",
        "import numpy as np\n",
        "import matplotlib.pyplot as plt\n",
        "from sklearn.linear_model import LinearRegression\n",
        "X =np.array([5,15,25,35,45,55]).reshape((-1,1))\n",
        "Y = np.array([5,20,14,32,22,38])\n",
        "\n",
        "print(X)\n",
        "print(Y)"
      ]
    },
    {
      "cell_type": "code",
      "execution_count": null,
      "metadata": {
        "id": "p5q7XkxRPAIH",
        "outputId": "1534a951-3bde-423b-ff03-1a7bfc4e2bff"
      },
      "outputs": [
        {
          "name": "stdout",
          "output_type": "stream",
          "text": [
            "5.633333333333329\n",
            "[0.54]\n"
          ]
        },
        {
          "data": {
            "text/plain": [
              "202.53333333333333"
            ]
          },
          "execution_count": 11,
          "metadata": {},
          "output_type": "execute_result"
        },
        {
          "data": {
            "image/png": "[encoded data removed]",
            "text/plain": [
              "<Figure size 432x288 with 1 Axes>"
            ]
          },
          "metadata": {
            "needs_background": "light"
          },
          "output_type": "display_data"
        }
      ],
      "source": [
        "modelo = LinearRegression().fit(X, Y)\n",
        "print(modelo.intercept_)\n",
        "print (modelo.coef_)\n",
        "plt.scatter(X, Y)\n",
        "plt.plot(X, modelo.predict(X), color = 'red')\n",
        "modelo._residues"
      ]
    },
    {
      "cell_type": "markdown",
      "metadata": {
        "id": "CbUDMx8bTv9v"
      },
      "source": [
        "# **Exemplo do uso do reshape**"
      ]
    },
    {
      "cell_type": "code",
      "execution_count": 3,
      "metadata": {
        "colab": {
          "base_uri": "https://localhost:8080/"
        },
        "id": "c9qxFslCVQfF",
        "outputId": "eb24b135-edc3-43ae-ae32-84c8a9106fb6"
      },
      "outputs": [
        {
          "name": "stdout",
          "output_type": "stream",
          "text": [
            "[[10]\n",
            " [ 9]\n",
            " [ 6]\n",
            " [ 5]\n",
            " [ 3]]\n",
            "[5 4 2 1 0]\n"
          ]
        }
      ],
      "source": [
        "import sympy as sy\n",
        "import numpy as np\n",
        "import matplotlib.pyplot as plt\n",
        "from sklearn.linear_model import LinearRegression\n",
        "X =np.array([10,9,6,5,3]).reshape((-1,1))\n",
        "Y = np.array([5,4,2,1,0])\n",
        "print(X)\n",
        "print(Y)\n"
      ]
    },
    {
      "cell_type": "markdown",
      "metadata": {
        "id": "eZco7JMqWMTI"
      },
      "source": [
        "# **Exemplo: Com base no seguinte conjunto de dados**\n",
        "\n",
        "# x:2;5;6;8;9;13;15\n",
        "\n",
        "\n",
        "# y:7;8;10;11;12;14;15 \n",
        "\n",
        "a) Use a regressão linear por mínimos quadrados para determinar os coeficientes a1 e a0 da função y=a1x+a0 que melhor se ajusta aos dados.\n",
        "\n",
        "b)Determinar o resíduo do ajuste.\n",
        "\n",
        "c) Determine o valor de y para x=7\n",
        "\n",
        "d) Calcular o valor de x para y = 11.5\n",
        "\n",
        "\n",
        "\n",
        "\n"
      ]
    },
    {
      "cell_type": "code",
      "execution_count": 13,
      "metadata": {
        "id": "snIClxF0bPvu"
      },
      "outputs": [],
      "source": [
        "#funcao que calcula o RS\n",
        "def Residuo(x,y,b0,b1):\n",
        "    n = len(y)\n",
        "    RS = 0\n",
        "    for i in range(0,n):\n",
        "         y_pred=b0+b1*x[i]\n",
        "         RS = RS + (y[i]-y_pred)**2\n",
        "    return RS\n"
      ]
    },
    {
      "cell_type": "code",
      "execution_count": 15,
      "metadata": {
        "colab": {
          "base_uri": "https://localhost:8080/",
          "height": 421
        },
        "id": "Ef9mu_ZePAIH",
        "outputId": "42cf5ae5-77d8-4c61-f62d-9cc63efd648a"
      },
      "outputs": [
        {
          "name": "stdout",
          "output_type": "stream",
          "text": [
            "Resultado do ao e a1\n",
            "5.6967592592592595\n",
            "[0.6400463]\n",
            "Resíduo\n",
            "[1.43634259]\n",
            "Valor de y para x=7\n",
            "[10.17708333]\n",
            "Valor de x para y =11.5\n",
            "{x: 9.06690777576854}\n"
          ]
        },
        {
          "data": {
            "image/png": "[encoded data removed]",
            "text/plain": [
              "<Figure size 432x288 with 1 Axes>"
            ]
          },
          "metadata": {
            "needs_background": "light"
          },
          "output_type": "display_data"
        }
      ],
      "source": [
        "import sympy as sy\n",
        "import numpy as np\n",
        "import matplotlib.pyplot as plt\n",
        "from sklearn.linear_model import LinearRegression\n",
        "x = [2,5,6,8,9,13,15]\n",
        "X = np.array(x).reshape(-1, 1)\n",
        "y=[7,8,10,11,12,14,15]\n",
        "Y = np.array([7,8,10,11,12,14,15])\n",
        "modelo = LinearRegression().fit(X, Y)\n",
        "print(\"Resultado do ao e a1\")\n",
        "print(modelo.intercept_)\n",
        "print (modelo.coef_)\n",
        "plt.scatter(X, Y)\n",
        "plt.plot(X, modelo.predict(X), color = 'red')\n",
        "print(\"Resíduo\")\n",
        "R=Residuo(x,y,modelo.intercept_,modelo.coef_)\n",
        "print(R)\n",
        "#modelo._residues\n",
        "# valor de y para x=7\n",
        "yr=modelo.intercept_ + modelo.coef_ * 7\n",
        "print(\"Valor de y para x=7\")\n",
        "print(yr)\n",
        "#valor de x para y =11.5\n",
        "print(\"Valor de x para y =11.5\")\n",
        "x=sy.Symbol('x')\n",
        "y=modelo.intercept_ + modelo.coef_ * x -11.5\n",
        "print(sy.solve(y))\n",
        "\n"
      ]
    },
    {
      "cell_type": "markdown",
      "metadata": {
        "id": "bsms5dlpPAIH"
      },
      "source": [
        "# Exemplo com um dataset"
      ]
    },
    {
      "cell_type": "code",
      "execution_count": 31,
      "metadata": {
        "colab": {
          "base_uri": "https://localhost:8080/",
          "height": 850
        },
        "id": "LoZ7K4RWPAIH",
        "outputId": "8876bbf4-213b-461c-9170-adb7ea7a37e6"
      },
      "outputs": [
        {
          "name": "stdout",
          "output_type": "stream",
          "text": [
            "Número de linhas e colunas: (150, 5)\n"
          ]
        },
        {
          "data": {
            "text/html": [
              "\n",
              "  <div id=\"df-591a7e6b-774a-4414-b8d0-ba3bbfaa810e\">\n",
              "    <div class=\"colab-df-container\">\n",
              "      <div>\n",
              "<style scoped>\n",
              "    .dataframe tbody tr th:only-of-type {\n",
              "        vertical-align: middle;\n",
              "    }\n",
              "\n",
              "    .dataframe tbody tr th {\n",
              "        vertical-align: top;\n",
              "    }\n",
              "\n",
              "    .dataframe thead th {\n",
              "        text-align: right;\n",
              "    }\n",
              "</style>\n",
              "<table border=\"1\" class=\"dataframe\">\n",
              "  <thead>\n",
              "    <tr style=\"text-align: right;\">\n",
              "      <th></th>\n",
              "      <th>sepal.length</th>\n",
              "      <th>sepal.width</th>\n",
              "      <th>petal.length</th>\n",
              "      <th>petal.width</th>\n",
              "      <th>variety</th>\n",
              "    </tr>\n",
              "  </thead>\n",
              "  <tbody>\n",
              "    <tr>\n",
              "      <th>0</th>\n",
              "      <td>5.1</td>\n",
              "      <td>3.5</td>\n",
              "      <td>1.4</td>\n",
              "      <td>0.2</td>\n",
              "      <td>Setosa</td>\n",
              "    </tr>\n",
              "    <tr>\n",
              "      <th>1</th>\n",
              "      <td>4.9</td>\n",
              "      <td>3.0</td>\n",
              "      <td>1.4</td>\n",
              "      <td>0.2</td>\n",
              "      <td>Setosa</td>\n",
              "    </tr>\n",
              "    <tr>\n",
              "      <th>2</th>\n",
              "      <td>4.7</td>\n",
              "      <td>3.2</td>\n",
              "      <td>1.3</td>\n",
              "      <td>0.2</td>\n",
              "      <td>Setosa</td>\n",
              "    </tr>\n",
              "    <tr>\n",
              "      <th>3</th>\n",
              "      <td>4.6</td>\n",
              "      <td>3.1</td>\n",
              "      <td>1.5</td>\n",
              "      <td>0.2</td>\n",
              "      <td>Setosa</td>\n",
              "    </tr>\n",
              "    <tr>\n",
              "      <th>4</th>\n",
              "      <td>5.0</td>\n",
              "      <td>3.6</td>\n",
              "      <td>1.4</td>\n",
              "      <td>0.2</td>\n",
              "      <td>Setosa</td>\n",
              "    </tr>\n",
              "    <tr>\n",
              "      <th>5</th>\n",
              "      <td>5.4</td>\n",
              "      <td>3.9</td>\n",
              "      <td>1.7</td>\n",
              "      <td>0.4</td>\n",
              "      <td>Setosa</td>\n",
              "    </tr>\n",
              "    <tr>\n",
              "      <th>6</th>\n",
              "      <td>4.6</td>\n",
              "      <td>3.4</td>\n",
              "      <td>1.4</td>\n",
              "      <td>0.3</td>\n",
              "      <td>Setosa</td>\n",
              "    </tr>\n",
              "    <tr>\n",
              "      <th>7</th>\n",
              "      <td>5.0</td>\n",
              "      <td>3.4</td>\n",
              "      <td>1.5</td>\n",
              "      <td>0.2</td>\n",
              "      <td>Setosa</td>\n",
              "    </tr>\n",
              "    <tr>\n",
              "      <th>8</th>\n",
              "      <td>4.4</td>\n",
              "      <td>2.9</td>\n",
              "      <td>1.4</td>\n",
              "      <td>0.2</td>\n",
              "      <td>Setosa</td>\n",
              "    </tr>\n",
              "    <tr>\n",
              "      <th>9</th>\n",
              "      <td>4.9</td>\n",
              "      <td>3.1</td>\n",
              "      <td>1.5</td>\n",
              "      <td>0.1</td>\n",
              "      <td>Setosa</td>\n",
              "    </tr>\n",
              "    <tr>\n",
              "      <th>10</th>\n",
              "      <td>5.4</td>\n",
              "      <td>3.7</td>\n",
              "      <td>1.5</td>\n",
              "      <td>0.2</td>\n",
              "      <td>Setosa</td>\n",
              "    </tr>\n",
              "    <tr>\n",
              "      <th>11</th>\n",
              "      <td>4.8</td>\n",
              "      <td>3.4</td>\n",
              "      <td>1.6</td>\n",
              "      <td>0.2</td>\n",
              "      <td>Setosa</td>\n",
              "    </tr>\n",
              "    <tr>\n",
              "      <th>12</th>\n",
              "      <td>4.8</td>\n",
              "      <td>3.0</td>\n",
              "      <td>1.4</td>\n",
              "      <td>0.1</td>\n",
              "      <td>Setosa</td>\n",
              "    </tr>\n",
              "    <tr>\n",
              "      <th>13</th>\n",
              "      <td>4.3</td>\n",
              "      <td>3.0</td>\n",
              "      <td>1.1</td>\n",
              "      <td>0.1</td>\n",
              "      <td>Setosa</td>\n",
              "    </tr>\n",
              "    <tr>\n",
              "      <th>14</th>\n",
              "      <td>5.8</td>\n",
              "      <td>4.0</td>\n",
              "      <td>1.2</td>\n",
              "      <td>0.2</td>\n",
              "      <td>Setosa</td>\n",
              "    </tr>\n",
              "    <tr>\n",
              "      <th>15</th>\n",
              "      <td>5.7</td>\n",
              "      <td>4.4</td>\n",
              "      <td>1.5</td>\n",
              "      <td>0.4</td>\n",
              "      <td>Setosa</td>\n",
              "    </tr>\n",
              "    <tr>\n",
              "      <th>16</th>\n",
              "      <td>5.4</td>\n",
              "      <td>3.9</td>\n",
              "      <td>1.3</td>\n",
              "      <td>0.4</td>\n",
              "      <td>Setosa</td>\n",
              "    </tr>\n",
              "    <tr>\n",
              "      <th>17</th>\n",
              "      <td>5.1</td>\n",
              "      <td>3.5</td>\n",
              "      <td>1.4</td>\n",
              "      <td>0.3</td>\n",
              "      <td>Setosa</td>\n",
              "    </tr>\n",
              "    <tr>\n",
              "      <th>18</th>\n",
              "      <td>5.7</td>\n",
              "      <td>3.8</td>\n",
              "      <td>1.7</td>\n",
              "      <td>0.3</td>\n",
              "      <td>Setosa</td>\n",
              "    </tr>\n",
              "    <tr>\n",
              "      <th>19</th>\n",
              "      <td>5.1</td>\n",
              "      <td>3.8</td>\n",
              "      <td>1.5</td>\n",
              "      <td>0.3</td>\n",
              "      <td>Setosa</td>\n",
              "    </tr>\n",
              "    <tr>\n",
              "      <th>20</th>\n",
              "      <td>5.4</td>\n",
              "      <td>3.4</td>\n",
              "      <td>1.7</td>\n",
              "      <td>0.2</td>\n",
              "      <td>Setosa</td>\n",
              "    </tr>\n",
              "    <tr>\n",
              "      <th>21</th>\n",
              "      <td>5.1</td>\n",
              "      <td>3.7</td>\n",
              "      <td>1.5</td>\n",
              "      <td>0.4</td>\n",
              "      <td>Setosa</td>\n",
              "    </tr>\n",
              "    <tr>\n",
              "      <th>22</th>\n",
              "      <td>4.6</td>\n",
              "      <td>3.6</td>\n",
              "      <td>1.0</td>\n",
              "      <td>0.2</td>\n",
              "      <td>Setosa</td>\n",
              "    </tr>\n",
              "    <tr>\n",
              "      <th>23</th>\n",
              "      <td>5.1</td>\n",
              "      <td>3.3</td>\n",
              "      <td>1.7</td>\n",
              "      <td>0.5</td>\n",
              "      <td>Setosa</td>\n",
              "    </tr>\n",
              "    <tr>\n",
              "      <th>24</th>\n",
              "      <td>4.8</td>\n",
              "      <td>3.4</td>\n",
              "      <td>1.9</td>\n",
              "      <td>0.2</td>\n",
              "      <td>Setosa</td>\n",
              "    </tr>\n",
              "  </tbody>\n",
              "</table>\n",
              "</div>\n",
              "      <button class=\"colab-df-convert\" onclick=\"convertToInteractive('df-591a7e6b-774a-4414-b8d0-ba3bbfaa810e')\"\n",
              "              title=\"Convert this dataframe to an interactive table.\"\n",
              "              style=\"display:none;\">\n",
              "        \n",
              "  <svg xmlns=\"http://www.w3.org/2000/svg\" height=\"24px\"viewBox=\"0 0 24 24\"\n",
              "       width=\"24px\">\n",
              "    <path d=\"M0 0h24v24H0V0z\" fill=\"none\"/>\n",
              "    <path d=\"M18.56 5.44l.94 2.06.94-2.06 2.06-.94-2.06-.94-.94-2.06-.94 2.06-2.06.94zm-11 1L8.5 8.5l.94-2.06 2.06-.94-2.06-.94L8.5 2.5l-.94 2.06-2.06.94zm10 10l.94 2.06.94-2.06 2.06-.94-2.06-.94-.94-2.06-.94 2.06-2.06.94z\"/><path d=\"M17.41 7.96l-1.37-1.37c-.4-.4-.92-.59-1.43-.59-.52 0-1.04.2-1.43.59L10.3 9.45l-7.72 7.72c-.78.78-.78 2.05 0 2.83L4 21.41c.39.39.9.59 1.41.59.51 0 1.02-.2 1.41-.59l7.78-7.78 2.81-2.81c.8-.78.8-2.07 0-2.86zM5.41 20L4 18.59l7.72-7.72 1.47 1.35L5.41 20z\"/>\n",
              "  </svg>\n",
              "      </button>\n",
              "      \n",
              "  <style>\n",
              "    .colab-df-container {\n",
              "      display:flex;\n",
              "      flex-wrap:wrap;\n",
              "      gap: 12px;\n",
              "    }\n",
              "\n",
              "    .colab-df-convert {\n",
              "      background-color: #E8F0FE;\n",
              "      border: none;\n",
              "      border-radius: 50%;\n",
              "      cursor: pointer;\n",
              "      display: none;\n",
              "      fill: #1967D2;\n",
              "      height: 32px;\n",
              "      padding: 0 0 0 0;\n",
              "      width: 32px;\n",
              "    }\n",
              "\n",
              "    .colab-df-convert:hover {\n",
              "      background-color: #E2EBFA;\n",
              "      box-shadow: 0px 1px 2px rgba(60, 64, 67, 0.3), 0px 1px 3px 1px rgba(60, 64, 67, 0.15);\n",
              "      fill: #174EA6;\n",
              "    }\n",
              "\n",
              "    [theme=dark] .colab-df-convert {\n",
              "      background-color: #3B4455;\n",
              "      fill: #D2E3FC;\n",
              "    }\n",
              "\n",
              "    [theme=dark] .colab-df-convert:hover {\n",
              "      background-color: #434B5C;\n",
              "      box-shadow: 0px 1px 3px 1px rgba(0, 0, 0, 0.15);\n",
              "      filter: drop-shadow(0px 1px 2px rgba(0, 0, 0, 0.3));\n",
              "      fill: #FFFFFF;\n",
              "    }\n",
              "  </style>\n",
              "\n",
              "      <script>\n",
              "        const buttonEl =\n",
              "          document.querySelector('#df-591a7e6b-774a-4414-b8d0-ba3bbfaa810e button.colab-df-convert');\n",
              "        buttonEl.style.display =\n",
              "          google.colab.kernel.accessAllowed ? 'block' : 'none';\n",
              "\n",
              "        async function convertToInteractive(key) {\n",
              "          const element = document.querySelector('#df-591a7e6b-774a-4414-b8d0-ba3bbfaa810e');\n",
              "          const dataTable =\n",
              "            await google.colab.kernel.invokeFunction('convertToInteractive',\n",
              "                                                     [key], {});\n",
              "          if (!dataTable) return;\n",
              "\n",
              "          const docLinkHtml = 'Like what you see? Visit the ' +\n",
              "            '<a target=\"_blank\" href=https://colab.research.google.com/notebooks/data_table.ipynb>data table notebook</a>'\n",
              "            + ' to learn more about interactive tables.';\n",
              "          element.innerHTML = '';\n",
              "          dataTable['output_type'] = 'display_data';\n",
              "          await google.colab.output.renderOutput(dataTable, element);\n",
              "          const docLink = document.createElement('div');\n",
              "          docLink.innerHTML = docLinkHtml;\n",
              "          element.appendChild(docLink);\n",
              "        }\n",
              "      </script>\n",
              "    </div>\n",
              "  </div>\n",
              "  "
            ],
            "text/plain": [
              "    sepal.length  sepal.width  petal.length  petal.width variety\n",
              "0            5.1          3.5           1.4          0.2  Setosa\n",
              "1            4.9          3.0           1.4          0.2  Setosa\n",
              "2            4.7          3.2           1.3          0.2  Setosa\n",
              "3            4.6          3.1           1.5          0.2  Setosa\n",
              "4            5.0          3.6           1.4          0.2  Setosa\n",
              "5            5.4          3.9           1.7          0.4  Setosa\n",
              "6            4.6          3.4           1.4          0.3  Setosa\n",
              "7            5.0          3.4           1.5          0.2  Setosa\n",
              "8            4.4          2.9           1.4          0.2  Setosa\n",
              "9            4.9          3.1           1.5          0.1  Setosa\n",
              "10           5.4          3.7           1.5          0.2  Setosa\n",
              "11           4.8          3.4           1.6          0.2  Setosa\n",
              "12           4.8          3.0           1.4          0.1  Setosa\n",
              "13           4.3          3.0           1.1          0.1  Setosa\n",
              "14           5.8          4.0           1.2          0.2  Setosa\n",
              "15           5.7          4.4           1.5          0.4  Setosa\n",
              "16           5.4          3.9           1.3          0.4  Setosa\n",
              "17           5.1          3.5           1.4          0.3  Setosa\n",
              "18           5.7          3.8           1.7          0.3  Setosa\n",
              "19           5.1          3.8           1.5          0.3  Setosa\n",
              "20           5.4          3.4           1.7          0.2  Setosa\n",
              "21           5.1          3.7           1.5          0.4  Setosa\n",
              "22           4.6          3.6           1.0          0.2  Setosa\n",
              "23           5.1          3.3           1.7          0.5  Setosa\n",
              "24           4.8          3.4           1.9          0.2  Setosa"
            ]
          },
          "execution_count": 31,
          "metadata": {},
          "output_type": "execute_result"
        }
      ],
      "source": [
        "import pandas as pd\n",
        "import numpy as np\n",
        "from sklearn.linear_model import LinearRegression\n",
        "import matplotlib.pyplot as plt\n",
        "from sklearn import datasets\n",
        "data = pd.read_csv('iris.csv', header=(0))\n",
        "print(\"Número de linhas e colunas:\",data.shape)\n",
        "data.head(25)\n"
      ]
    },
    {
      "cell_type": "code",
      "execution_count": 32,
      "metadata": {
        "colab": {
          "base_uri": "https://localhost:8080/",
          "height": 320
        },
        "id": "-FJTXqa6PAII",
        "outputId": "d8bbce05-68d3-405c-c5fb-50afd0a42e0c"
      },
      "outputs": [
        {
          "name": "stdout",
          "output_type": "stream",
          "text": [
            "3.418946836103816\n",
            "[-0.0618848]\n"
          ]
        },
        {
          "data": {
            "text/plain": [
              "[<matplotlib.lines.Line2D at 0x7f4f8dff2ee0>]"
            ]
          },
          "execution_count": 32,
          "metadata": {},
          "output_type": "execute_result"
        },
        {
          "data": {
            "image/png": "[encoded data removed]",
            "text/plain": [
              "<Figure size 432x288 with 1 Axes>"
            ]
          },
          "metadata": {
            "needs_background": "light"
          },
          "output_type": "display_data"
        }
      ],
      "source": [
        "data = data.to_numpy()\n",
        "y = data[:,1]\n",
        "x = data[:,0]\n",
        "X = np.array(x).reshape(-1, 1)\n",
        "Y = np.array(y)\n",
        "modelo = LinearRegression().fit(X, Y)\n",
        "print(modelo.intercept_)\n",
        "print (modelo.coef_)\n",
        "plt.scatter(X, Y)\n",
        "plt.plot(X, modelo.predict(X), color = 'red')"
      ]
    },
    {
      "cell_type": "code",
      "execution_count": 35,
      "metadata": {
        "colab": {
          "base_uri": "https://localhost:8080/"
        },
        "id": "cD-joyCFdpUu",
        "outputId": "369179f3-1713-4dcd-e487-0d4cea68755e"
      },
      "outputs": [
        {
          "name": "stdout",
          "output_type": "stream",
          "text": [
            "Resíduo\n",
            "[27.91565638]\n"
          ]
        }
      ],
      "source": [
        "print(\"Resíduo\")\n",
        "R=Residuo(x,y,modelo.intercept_,modelo.coef_)\n",
        "print(R)"
      ]
    },
    {
      "cell_type": "markdown",
      "metadata": {
        "id": "YRSPHtHJPAII"
      },
      "source": [
        "## Determinação do R2"
      ]
    },
    {
      "cell_type": "code",
      "execution_count": 36,
      "metadata": {
        "colab": {
          "base_uri": "https://localhost:8080/"
        },
        "id": "Zqx3ja6-PAII",
        "outputId": "17745e60-4cbd-4cd2-c5ef-4eccd25a093f"
      },
      "outputs": [
        {
          "name": "stdout",
          "output_type": "stream",
          "text": [
            "R2: 0.013822654141080748\n"
          ]
        }
      ],
      "source": [
        "from sklearn.metrics import r2_score\n",
        "y_pred=modelo.predict(X)\n",
        "R2 = r2_score(y, y_pred)\n",
        "print('R2:', R2)"
      ]
    },
    {
      "cell_type": "markdown",
      "metadata": {
        "id": "fbE5gLzHeg6e"
      },
      "source": [
        "# **Exercícios**\n",
        "\n",
        "# 1) A partir dos dados a seguir, determinar:\n",
        "\n",
        "x = preço: 10.00;10.50;11.00;11.50;12.00;12.50;13.00;13.50\n",
        "\n",
        "y = oferta (em 1000 un.): 427;440;447;453;460;465;470;472\n",
        "\n",
        "a) Construa um gráfico de dispersão de oferta em função do preço;\n",
        "\n",
        "b) Calcule o coeficiente de corelação linear;\n",
        "\n",
        "c) Calcule a reta de regressão de y em função de x. Plotar a reta junto com o gráfico de dispersão;\n",
        "\n",
        "d) Calcular o resíduo do ajuste;\n",
        "\n",
        "e) Calcular o coeficiente de deerminação R2;\n",
        "\n",
        "f)Calcule a oferta esperada para um preço de 15.00;\n",
        "\n",
        "g) Calcule o preço para uma oferta de 445;"
      ]
    },
    {
      "cell_type": "code",
      "execution_count": 25,
      "metadata": {
        "id": "EEg4w18ngvYj"
      },
      "outputs": [
        {
          "data": {
            "image/png": "[encoded data removed]",
            "text/plain": [
              "<Figure size 432x288 with 1 Axes>"
            ]
          },
          "metadata": {
            "needs_background": "light"
          },
          "output_type": "display_data"
        },
        {
          "name": "stdout",
          "output_type": "stream",
          "text": [
            "[[1.         0.98094047]\n",
            " [0.98094047 1.        ]]\n",
            "Resultado do ao e a1\n",
            "307.09523809523813\n",
            "[12.52380952]\n",
            "Resíduo\n",
            "[64.61904762]\n",
            "R2: 0.96224420238443\n",
            "Valor de y para x=15\n",
            "[494.95238095]\n",
            "Valor de x para y =445.0\n",
            "{x: 11.0114068441065}\n"
          ]
        },
        {
          "data": {
            "image/png": "[encoded data removed]",
            "text/plain": [
              "<Figure size 432x288 with 1 Axes>"
            ]
          },
          "metadata": {
            "needs_background": "light"
          },
          "output_type": "display_data"
        }
      ],
      "source": [
        "import pandas as pd\n",
        "import numpy as np\n",
        "import sympy as sy\n",
        "from sklearn.linear_model import LinearRegression\n",
        "import matplotlib.pyplot as plt\n",
        "from sklearn.metrics import r2_score\n",
        "\n",
        "#a\n",
        "x = np.array([10, 10.5, 11, 11.5, 12, 12.5, 13, 13.5]) \n",
        "y = np.array([427, 440, 447, 453, 460, 465, 470, 472]) \n",
        "plt.plot(x, y, 'bo')\n",
        "plt.ylabel(\"x\", fontsize = 15)\n",
        "plt.xlabel(\"y\", fontsize = 15)\n",
        "plt.show(True)\n",
        "#b\n",
        "correlacao = np.corrcoef(x, y)\n",
        "print(correlacao)\n",
        "#c\n",
        "x = np.array(x).reshape(-1, 1)\n",
        "y=np.array(y)\n",
        "modelo = LinearRegression().fit(x, y)\n",
        "print(\"Resultado do ao e a1\")\n",
        "print(modelo.intercept_)\n",
        "print (modelo.coef_)\n",
        "plt.scatter(x, y)\n",
        "plt.plot(x, modelo.predict(x), color = 'red')\n",
        "\n",
        "#d\n",
        "def Residuo(x,y,b0,b1):\n",
        "    n = len(y)\n",
        "    RS = 0\n",
        "    for i in range(0,n):\n",
        "         y_pred=b0+b1*x[i]\n",
        "         RS = RS + (y[i]-y_pred)**2\n",
        "    return RS\n",
        "x=np.array([10, 10.5, 11, 11.5, 12, 12.5, 13, 13.5]).reshape((-1,1))\n",
        "modelo = LinearRegression().fit(x, y)\n",
        "print(\"Resíduo\")\n",
        "R=Residuo(x,y,modelo.intercept_,modelo.coef_)\n",
        "print(R)\n",
        "#e\n",
        "modelo = LinearRegression().fit(x, y)\n",
        "R2 = r2_score(y, modelo.predict(x))\n",
        "print('R2:', R2)\n",
        "#f\n",
        "yr=modelo.intercept_ + modelo.coef_ * 15\n",
        "print(\"Valor de y para x=15\")\n",
        "print(yr)\n",
        "\n",
        "#g\n",
        "print(\"Valor de x para y =445.0\")\n",
        "x=sy.Symbol('x')\n",
        "y=modelo.intercept_ + modelo.coef_ * x -445\n",
        "print(sy.solve(y))\n"
      ]
    },
    {
      "cell_type": "markdown",
      "metadata": {
        "id": "_0g98GEmgy8V"
      },
      "source": [
        "# 2) A partir do arquivo iris.csv, fazer a regressão linear de x=petal.lenght e y=sepal.lenght. Fazer outra regressão linear de x=sepa.width e y=petal.length. Exibir as duas regressões e mostrar qual é a melhor regressão usando o coeficiente de determinação R2. "
      ]
    }
  ],
  "metadata": {
    "colab": {
      "provenance": []
    },
    "kernelspec": {
      "display_name": "Python 3.8.8 ('base')",
      "language": "python",
      "name": "python3"
    },
    "language_info": {
      "codemirror_mode": {
        "name": "ipython",
        "version": 3
      },
      "file_extension": ".py",
      "mimetype": "text/x-python",
      "name": "python",
      "nbconvert_exporter": "python",
      "pygments_lexer": "ipython3",
      "version": "3.8.8"
    },
    "vscode": {
      "interpreter": {
        "hash": "ad2bdc8ecc057115af97d19610ffacc2b4e99fae6737bb82f5d7fb13d2f2c186"
      }
    }
  },
  "nbformat": 4,
  "nbformat_minor": 0
}
