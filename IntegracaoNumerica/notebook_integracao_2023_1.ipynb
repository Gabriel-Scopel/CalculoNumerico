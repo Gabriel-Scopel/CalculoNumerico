{
  "cells": [
    {
      "cell_type": "markdown",
      "metadata": {
        "id": "kUOdCGooVR3f"
      },
      "source": [
        "## Exemplo com a função def trapezio"
      ]
    },
    {
      "cell_type": "markdown",
      "metadata": {
        "id": "5LWAfctZVR3h"
      },
      "source": [
        "# sintaxe função trapezio\n",
        "\n",
        "# trapezio(função, limite inferior,limite superior, número de subintervalos"
      ]
    },
    {
      "cell_type": "code",
      "execution_count": null,
      "metadata": {
        "id": "P7r0S48kVR3i",
        "outputId": "2b6cdc15-73ec-47f8-f8a4-a8a46937dca9"
      },
      "outputs": [
        {
          "data": {
            "text/plain": [
              "0.9788450519984815"
            ]
          },
          "execution_count": 1,
          "metadata": {},
          "output_type": "execute_result"
        }
      ],
      "source": [
        "import numpy as np\n",
        "import matplotlib.pyplot as plt\n",
        "def trapezio(f,a,b,N):\n",
        "    \n",
        "    x = np.linspace(a,b,N+1) # N+1 pontos\n",
        "    y = f(x)\n",
        "    y_inter = y[1:N] # todos valores menos o primeiro e o ultimo\n",
        "    dx = (b - a)/N\n",
        "    T = (dx)*np.sum(y_inter)+(dx/2)*(y[0]+y[N])\n",
        "    return T\n",
        "\n",
        "trapezio(lambda x:3/(np.sqrt(x**2+3)),0.3,0.9,6)\n"
      ]
    },
    {
      "cell_type": "markdown",
      "metadata": {
        "id": "ZCFIWUoLVR3j"
      },
      "source": [
        "## Exemplo com a função trapz"
      ]
    },
    {
      "cell_type": "markdown",
      "metadata": {
        "id": "ztN5WHMPVR3j"
      },
      "source": [
        "# sintaxe da função trapz\n",
        "# trapz(limite inferior, limite superior, número de pontos)"
      ]
    },
    {
      "cell_type": "code",
      "execution_count": null,
      "metadata": {
        "id": "48pYfWMlVR3j",
        "outputId": "98d73ba0-cea7-4118-9173-318b37d31feb"
      },
      "outputs": [
        {
          "name": "stdout",
          "output_type": "stream",
          "text": [
            "0.9788450519984813\n"
          ]
        }
      ],
      "source": [
        "import numpy as np\n",
        "x = np.linspace(0.3,0.9,7)\n",
        "y = 3/(np.sqrt(x**2+3))\n",
        "I = np.trapz(y,x)\n",
        "print(I)"
      ]
    },
    {
      "cell_type": "markdown",
      "metadata": {
        "id": "dg61P55WVR3k"
      },
      "source": [
        "## Integral definida"
      ]
    },
    {
      "cell_type": "code",
      "execution_count": null,
      "metadata": {
        "id": "eNk4WaQbVR3k",
        "outputId": "4c9ef1b4-27cb-4bca-f03b-18061e066a0e"
      },
      "outputs": [
        {
          "name": "stdout",
          "output_type": "stream",
          "text": [
            "(0.9790095358917296, 1.0869189280745868e-14)\n"
          ]
        }
      ],
      "source": [
        "import scipy.integrate as si\n",
        "f= lambda x:3/(np.sqrt(x**2+3))\n",
        "i = si.quad(f, 0.3, 0.9)\n",
        "print (i)\n"
      ]
    },
    {
      "cell_type": "code",
      "execution_count": null,
      "metadata": {
        "id": "Vd-4KG3sVR3k",
        "outputId": "84b610d6-903a-4eb4-c6b5-9a289e4b219d"
      },
      "outputs": [
        {
          "name": "stdout",
          "output_type": "stream",
          "text": [
            "-3*asinh(0.1*sqrt(3)) + 3*asinh(0.3*sqrt(3))\n"
          ]
        }
      ],
      "source": [
        "from sympy import*\n",
        "import sympy as sp\n",
        "import numpy as np\n",
        "x,y=symbols('x y')\n",
        "y=3/(sqrt(x**2+3))\n",
        "r=integrate(y,(x,0.3,0.9))\n",
        "print(r)"
      ]
    },
    {
      "cell_type": "code",
      "execution_count": null,
      "metadata": {
        "id": "pa3E5M6TVR3k",
        "outputId": "e6090dcf-0909-4a53-e25a-0896edb1fbf0"
      },
      "outputs": [
        {
          "data": {
            "text/latex": [
              "$\\displaystyle 0.979009535891729$"
            ],
            "text/plain": [
              "0.979009535891729"
            ]
          },
          "execution_count": 5,
          "metadata": {},
          "output_type": "execute_result"
        }
      ],
      "source": [
        "-3*asinh(0.1*np.sqrt(3)) + 3*asinh(0.3*np.sqrt(3))\n"
      ]
    },
    {
      "cell_type": "markdown",
      "metadata": {
        "id": "lvWguNYpVR3l"
      },
      "source": [
        "## Exemplo de integração numérica de uma variável de um dataset"
      ]
    },
    {
      "cell_type": "code",
      "execution_count": null,
      "metadata": {
        "id": "ZbL1Zj71VR3l",
        "outputId": "50d7855a-5cec-4d3f-b1ee-aa5089ea5a6a"
      },
      "outputs": [
        {
          "name": "stdout",
          "output_type": "stream",
          "text": [
            "Número de linhas e colunas: (150, 5)\n"
          ]
        },
        {
          "data": {
            "text/html": [
              "<div>\n",
              "<style scoped>\n",
              "    .dataframe tbody tr th:only-of-type {\n",
              "        vertical-align: middle;\n",
              "    }\n",
              "\n",
              "    .dataframe tbody tr th {\n",
              "        vertical-align: top;\n",
              "    }\n",
              "\n",
              "    .dataframe thead th {\n",
              "        text-align: right;\n",
              "    }\n",
              "</style>\n",
              "<table border=\"1\" class=\"dataframe\">\n",
              "  <thead>\n",
              "    <tr style=\"text-align: right;\">\n",
              "      <th></th>\n",
              "      <th>sepal.length</th>\n",
              "      <th>sepal.width</th>\n",
              "      <th>petal.length</th>\n",
              "      <th>petal.width</th>\n",
              "      <th>variety</th>\n",
              "    </tr>\n",
              "  </thead>\n",
              "  <tbody>\n",
              "    <tr>\n",
              "      <th>0</th>\n",
              "      <td>5.1</td>\n",
              "      <td>3.5</td>\n",
              "      <td>1.4</td>\n",
              "      <td>0.2</td>\n",
              "      <td>Setosa</td>\n",
              "    </tr>\n",
              "    <tr>\n",
              "      <th>1</th>\n",
              "      <td>4.9</td>\n",
              "      <td>3.0</td>\n",
              "      <td>1.4</td>\n",
              "      <td>0.2</td>\n",
              "      <td>Setosa</td>\n",
              "    </tr>\n",
              "    <tr>\n",
              "      <th>2</th>\n",
              "      <td>4.7</td>\n",
              "      <td>3.2</td>\n",
              "      <td>1.3</td>\n",
              "      <td>0.2</td>\n",
              "      <td>Setosa</td>\n",
              "    </tr>\n",
              "    <tr>\n",
              "      <th>3</th>\n",
              "      <td>4.6</td>\n",
              "      <td>3.1</td>\n",
              "      <td>1.5</td>\n",
              "      <td>0.2</td>\n",
              "      <td>Setosa</td>\n",
              "    </tr>\n",
              "    <tr>\n",
              "      <th>4</th>\n",
              "      <td>5.0</td>\n",
              "      <td>3.6</td>\n",
              "      <td>1.4</td>\n",
              "      <td>0.2</td>\n",
              "      <td>Setosa</td>\n",
              "    </tr>\n",
              "    <tr>\n",
              "      <th>5</th>\n",
              "      <td>5.4</td>\n",
              "      <td>3.9</td>\n",
              "      <td>1.7</td>\n",
              "      <td>0.4</td>\n",
              "      <td>Setosa</td>\n",
              "    </tr>\n",
              "    <tr>\n",
              "      <th>6</th>\n",
              "      <td>4.6</td>\n",
              "      <td>3.4</td>\n",
              "      <td>1.4</td>\n",
              "      <td>0.3</td>\n",
              "      <td>Setosa</td>\n",
              "    </tr>\n",
              "    <tr>\n",
              "      <th>7</th>\n",
              "      <td>5.0</td>\n",
              "      <td>3.4</td>\n",
              "      <td>1.5</td>\n",
              "      <td>0.2</td>\n",
              "      <td>Setosa</td>\n",
              "    </tr>\n",
              "    <tr>\n",
              "      <th>8</th>\n",
              "      <td>4.4</td>\n",
              "      <td>2.9</td>\n",
              "      <td>1.4</td>\n",
              "      <td>0.2</td>\n",
              "      <td>Setosa</td>\n",
              "    </tr>\n",
              "    <tr>\n",
              "      <th>9</th>\n",
              "      <td>4.9</td>\n",
              "      <td>3.1</td>\n",
              "      <td>1.5</td>\n",
              "      <td>0.1</td>\n",
              "      <td>Setosa</td>\n",
              "    </tr>\n",
              "    <tr>\n",
              "      <th>10</th>\n",
              "      <td>5.4</td>\n",
              "      <td>3.7</td>\n",
              "      <td>1.5</td>\n",
              "      <td>0.2</td>\n",
              "      <td>Setosa</td>\n",
              "    </tr>\n",
              "    <tr>\n",
              "      <th>11</th>\n",
              "      <td>4.8</td>\n",
              "      <td>3.4</td>\n",
              "      <td>1.6</td>\n",
              "      <td>0.2</td>\n",
              "      <td>Setosa</td>\n",
              "    </tr>\n",
              "    <tr>\n",
              "      <th>12</th>\n",
              "      <td>4.8</td>\n",
              "      <td>3.0</td>\n",
              "      <td>1.4</td>\n",
              "      <td>0.1</td>\n",
              "      <td>Setosa</td>\n",
              "    </tr>\n",
              "    <tr>\n",
              "      <th>13</th>\n",
              "      <td>4.3</td>\n",
              "      <td>3.0</td>\n",
              "      <td>1.1</td>\n",
              "      <td>0.1</td>\n",
              "      <td>Setosa</td>\n",
              "    </tr>\n",
              "    <tr>\n",
              "      <th>14</th>\n",
              "      <td>5.8</td>\n",
              "      <td>4.0</td>\n",
              "      <td>1.2</td>\n",
              "      <td>0.2</td>\n",
              "      <td>Setosa</td>\n",
              "    </tr>\n",
              "    <tr>\n",
              "      <th>15</th>\n",
              "      <td>5.7</td>\n",
              "      <td>4.4</td>\n",
              "      <td>1.5</td>\n",
              "      <td>0.4</td>\n",
              "      <td>Setosa</td>\n",
              "    </tr>\n",
              "    <tr>\n",
              "      <th>16</th>\n",
              "      <td>5.4</td>\n",
              "      <td>3.9</td>\n",
              "      <td>1.3</td>\n",
              "      <td>0.4</td>\n",
              "      <td>Setosa</td>\n",
              "    </tr>\n",
              "    <tr>\n",
              "      <th>17</th>\n",
              "      <td>5.1</td>\n",
              "      <td>3.5</td>\n",
              "      <td>1.4</td>\n",
              "      <td>0.3</td>\n",
              "      <td>Setosa</td>\n",
              "    </tr>\n",
              "    <tr>\n",
              "      <th>18</th>\n",
              "      <td>5.7</td>\n",
              "      <td>3.8</td>\n",
              "      <td>1.7</td>\n",
              "      <td>0.3</td>\n",
              "      <td>Setosa</td>\n",
              "    </tr>\n",
              "    <tr>\n",
              "      <th>19</th>\n",
              "      <td>5.1</td>\n",
              "      <td>3.8</td>\n",
              "      <td>1.5</td>\n",
              "      <td>0.3</td>\n",
              "      <td>Setosa</td>\n",
              "    </tr>\n",
              "    <tr>\n",
              "      <th>20</th>\n",
              "      <td>5.4</td>\n",
              "      <td>3.4</td>\n",
              "      <td>1.7</td>\n",
              "      <td>0.2</td>\n",
              "      <td>Setosa</td>\n",
              "    </tr>\n",
              "    <tr>\n",
              "      <th>21</th>\n",
              "      <td>5.1</td>\n",
              "      <td>3.7</td>\n",
              "      <td>1.5</td>\n",
              "      <td>0.4</td>\n",
              "      <td>Setosa</td>\n",
              "    </tr>\n",
              "    <tr>\n",
              "      <th>22</th>\n",
              "      <td>4.6</td>\n",
              "      <td>3.6</td>\n",
              "      <td>1.0</td>\n",
              "      <td>0.2</td>\n",
              "      <td>Setosa</td>\n",
              "    </tr>\n",
              "    <tr>\n",
              "      <th>23</th>\n",
              "      <td>5.1</td>\n",
              "      <td>3.3</td>\n",
              "      <td>1.7</td>\n",
              "      <td>0.5</td>\n",
              "      <td>Setosa</td>\n",
              "    </tr>\n",
              "    <tr>\n",
              "      <th>24</th>\n",
              "      <td>4.8</td>\n",
              "      <td>3.4</td>\n",
              "      <td>1.9</td>\n",
              "      <td>0.2</td>\n",
              "      <td>Setosa</td>\n",
              "    </tr>\n",
              "  </tbody>\n",
              "</table>\n",
              "</div>"
            ],
            "text/plain": [
              "    sepal.length  sepal.width  petal.length  petal.width variety\n",
              "0            5.1          3.5           1.4          0.2  Setosa\n",
              "1            4.9          3.0           1.4          0.2  Setosa\n",
              "2            4.7          3.2           1.3          0.2  Setosa\n",
              "3            4.6          3.1           1.5          0.2  Setosa\n",
              "4            5.0          3.6           1.4          0.2  Setosa\n",
              "5            5.4          3.9           1.7          0.4  Setosa\n",
              "6            4.6          3.4           1.4          0.3  Setosa\n",
              "7            5.0          3.4           1.5          0.2  Setosa\n",
              "8            4.4          2.9           1.4          0.2  Setosa\n",
              "9            4.9          3.1           1.5          0.1  Setosa\n",
              "10           5.4          3.7           1.5          0.2  Setosa\n",
              "11           4.8          3.4           1.6          0.2  Setosa\n",
              "12           4.8          3.0           1.4          0.1  Setosa\n",
              "13           4.3          3.0           1.1          0.1  Setosa\n",
              "14           5.8          4.0           1.2          0.2  Setosa\n",
              "15           5.7          4.4           1.5          0.4  Setosa\n",
              "16           5.4          3.9           1.3          0.4  Setosa\n",
              "17           5.1          3.5           1.4          0.3  Setosa\n",
              "18           5.7          3.8           1.7          0.3  Setosa\n",
              "19           5.1          3.8           1.5          0.3  Setosa\n",
              "20           5.4          3.4           1.7          0.2  Setosa\n",
              "21           5.1          3.7           1.5          0.4  Setosa\n",
              "22           4.6          3.6           1.0          0.2  Setosa\n",
              "23           5.1          3.3           1.7          0.5  Setosa\n",
              "24           4.8          3.4           1.9          0.2  Setosa"
            ]
          },
          "execution_count": 6,
          "metadata": {},
          "output_type": "execute_result"
        }
      ],
      "source": [
        "import pandas as pd\n",
        "import numpy as np\n",
        "from sklearn.linear_model import LinearRegression\n",
        "import matplotlib.pyplot as plt\n",
        "from sklearn import datasets\n",
        "data = pd.read_csv('iris.csv', header=(0))\n",
        "print(\"Número de linhas e colunas:\",data.shape)\n",
        "data.head(25)"
      ]
    },
    {
      "cell_type": "code",
      "execution_count": null,
      "metadata": {
        "id": "Z7ACYmqvVR3l"
      },
      "outputs": [],
      "source": [
        "data = data.to_numpy()\n",
        "y = data[:,1]\n",
        "x = np.linspace(1,151,150) "
      ]
    },
    {
      "cell_type": "code",
      "execution_count": null,
      "metadata": {
        "id": "Bi_Aya5kVR3l",
        "outputId": "da7d293c-64f9-4845-b44b-7e8fd7943252"
      },
      "outputs": [
        {
          "data": {
            "text/plain": [
              "[<matplotlib.lines.Line2D at 0x26b5945b5e0>]"
            ]
          },
          "execution_count": 8,
          "metadata": {},
          "output_type": "execute_result"
        },
        {
          "data": {
            "image/png": "[encoded data removed]",
            "text/plain": [
              "<Figure size 432x288 with 1 Axes>"
            ]
          },
          "metadata": {
            "needs_background": "light"
          },
          "output_type": "display_data"
        }
      ],
      "source": [
        "plt.plot(x, y)\n"
      ]
    },
    {
      "cell_type": "code",
      "execution_count": null,
      "metadata": {
        "id": "gIbY7YauVR3l",
        "outputId": "fe3e813c-fdf8-4058-a118-897ecab43f0a"
      },
      "outputs": [
        {
          "name": "stdout",
          "output_type": "stream",
          "text": [
            "458.40604026845637\n"
          ]
        }
      ],
      "source": [
        "I = np.trapz(y,x)\n",
        "print(I)"
      ]
    },
    {
      "cell_type": "code",
      "execution_count": null,
      "metadata": {
        "id": "jNIrjFepVR3l",
        "outputId": "8c696d93-90f8-4689-8f1f-f1a79d89c684"
      },
      "outputs": [
        {
          "data": {
            "text/plain": [
              "1.6391510787773829"
            ]
          },
          "execution_count": 10,
          "metadata": {},
          "output_type": "execute_result"
        }
      ],
      "source": [
        "trapezio(lambda x:np.exp(x)*np.cos(x),0,1.2,6)"
      ]
    },
    {
      "cell_type": "code",
      "execution_count": null,
      "metadata": {
        "id": "ZFkvyJy6VR3m",
        "outputId": "d1af3a37-256a-482d-cc3d-f818083892f8"
      },
      "outputs": [
        {
          "name": "stdout",
          "output_type": "stream",
          "text": [
            "1.6391510787773833\n"
          ]
        }
      ],
      "source": [
        "import numpy as np\n",
        "x = np.linspace(0,1.2,7)\n",
        "y = np.exp(x)*np.cos(x)\n",
        "I = np.trapz(y,x)\n",
        "print(I)"
      ]
    },
    {
      "cell_type": "code",
      "execution_count": null,
      "metadata": {
        "id": "sKC2QxBAVR3m",
        "outputId": "542e7f5c-371c-42d1-e810-ed7f2f1a7165"
      },
      "outputs": [
        {
          "name": "stdout",
          "output_type": "stream",
          "text": [
            "1.64877442734726\n"
          ]
        }
      ],
      "source": [
        "from sympy import*\n",
        "import sympy as sp\n",
        "import numpy as np\n",
        "x,y=symbols('x y')\n",
        "y=exp(x)*cos(x)\n",
        "r=integrate(y,(x,0,1.2))\n",
        "print(r)"
      ]
    },
    {
      "cell_type": "code",
      "execution_count": null,
      "metadata": {
        "id": "L7QZL2O3VR3m",
        "outputId": "0968531e-fd83-4fe3-cec0-0c1fd618ffae"
      },
      "outputs": [
        {
          "name": "stdout",
          "output_type": "stream",
          "text": [
            "Número de linhas e colunas: (32, 12)\n"
          ]
        },
        {
          "data": {
            "text/html": [
              "<div>\n",
              "<style scoped>\n",
              "    .dataframe tbody tr th:only-of-type {\n",
              "        vertical-align: middle;\n",
              "    }\n",
              "\n",
              "    .dataframe tbody tr th {\n",
              "        vertical-align: top;\n",
              "    }\n",
              "\n",
              "    .dataframe thead th {\n",
              "        text-align: right;\n",
              "    }\n",
              "</style>\n",
              "<table border=\"1\" class=\"dataframe\">\n",
              "  <thead>\n",
              "    <tr style=\"text-align: right;\">\n",
              "      <th></th>\n",
              "      <th>model</th>\n",
              "      <th>mpg</th>\n",
              "      <th>cyl</th>\n",
              "      <th>disp</th>\n",
              "      <th>hp</th>\n",
              "      <th>drat</th>\n",
              "      <th>wt</th>\n",
              "      <th>qsec</th>\n",
              "      <th>vs</th>\n",
              "      <th>am</th>\n",
              "      <th>gear</th>\n",
              "      <th>carb</th>\n",
              "    </tr>\n",
              "  </thead>\n",
              "  <tbody>\n",
              "    <tr>\n",
              "      <th>0</th>\n",
              "      <td>Mazda RX4</td>\n",
              "      <td>21.0</td>\n",
              "      <td>6</td>\n",
              "      <td>160.0</td>\n",
              "      <td>110</td>\n",
              "      <td>3.90</td>\n",
              "      <td>2.620</td>\n",
              "      <td>16.46</td>\n",
              "      <td>0</td>\n",
              "      <td>1</td>\n",
              "      <td>4</td>\n",
              "      <td>4</td>\n",
              "    </tr>\n",
              "    <tr>\n",
              "      <th>1</th>\n",
              "      <td>Mazda RX4 Wag</td>\n",
              "      <td>21.0</td>\n",
              "      <td>6</td>\n",
              "      <td>160.0</td>\n",
              "      <td>110</td>\n",
              "      <td>3.90</td>\n",
              "      <td>2.875</td>\n",
              "      <td>17.02</td>\n",
              "      <td>0</td>\n",
              "      <td>1</td>\n",
              "      <td>4</td>\n",
              "      <td>4</td>\n",
              "    </tr>\n",
              "    <tr>\n",
              "      <th>2</th>\n",
              "      <td>Datsun 710</td>\n",
              "      <td>22.8</td>\n",
              "      <td>4</td>\n",
              "      <td>108.0</td>\n",
              "      <td>93</td>\n",
              "      <td>3.85</td>\n",
              "      <td>2.320</td>\n",
              "      <td>18.61</td>\n",
              "      <td>1</td>\n",
              "      <td>1</td>\n",
              "      <td>4</td>\n",
              "      <td>1</td>\n",
              "    </tr>\n",
              "    <tr>\n",
              "      <th>3</th>\n",
              "      <td>Hornet 4 Drive</td>\n",
              "      <td>21.4</td>\n",
              "      <td>6</td>\n",
              "      <td>258.0</td>\n",
              "      <td>110</td>\n",
              "      <td>3.08</td>\n",
              "      <td>3.215</td>\n",
              "      <td>19.44</td>\n",
              "      <td>1</td>\n",
              "      <td>0</td>\n",
              "      <td>3</td>\n",
              "      <td>1</td>\n",
              "    </tr>\n",
              "    <tr>\n",
              "      <th>4</th>\n",
              "      <td>Hornet Sportabout</td>\n",
              "      <td>18.7</td>\n",
              "      <td>8</td>\n",
              "      <td>360.0</td>\n",
              "      <td>175</td>\n",
              "      <td>3.15</td>\n",
              "      <td>3.440</td>\n",
              "      <td>17.02</td>\n",
              "      <td>0</td>\n",
              "      <td>0</td>\n",
              "      <td>3</td>\n",
              "      <td>2</td>\n",
              "    </tr>\n",
              "    <tr>\n",
              "      <th>5</th>\n",
              "      <td>Valiant</td>\n",
              "      <td>18.1</td>\n",
              "      <td>6</td>\n",
              "      <td>225.0</td>\n",
              "      <td>105</td>\n",
              "      <td>2.76</td>\n",
              "      <td>3.460</td>\n",
              "      <td>20.22</td>\n",
              "      <td>1</td>\n",
              "      <td>0</td>\n",
              "      <td>3</td>\n",
              "      <td>1</td>\n",
              "    </tr>\n",
              "    <tr>\n",
              "      <th>6</th>\n",
              "      <td>Duster 360</td>\n",
              "      <td>14.3</td>\n",
              "      <td>8</td>\n",
              "      <td>360.0</td>\n",
              "      <td>245</td>\n",
              "      <td>3.21</td>\n",
              "      <td>3.570</td>\n",
              "      <td>15.84</td>\n",
              "      <td>0</td>\n",
              "      <td>0</td>\n",
              "      <td>3</td>\n",
              "      <td>4</td>\n",
              "    </tr>\n",
              "    <tr>\n",
              "      <th>7</th>\n",
              "      <td>Merc 240D</td>\n",
              "      <td>24.4</td>\n",
              "      <td>4</td>\n",
              "      <td>146.7</td>\n",
              "      <td>62</td>\n",
              "      <td>3.69</td>\n",
              "      <td>3.190</td>\n",
              "      <td>20.00</td>\n",
              "      <td>1</td>\n",
              "      <td>0</td>\n",
              "      <td>4</td>\n",
              "      <td>2</td>\n",
              "    </tr>\n",
              "    <tr>\n",
              "      <th>8</th>\n",
              "      <td>Merc 230</td>\n",
              "      <td>22.8</td>\n",
              "      <td>4</td>\n",
              "      <td>140.8</td>\n",
              "      <td>95</td>\n",
              "      <td>3.92</td>\n",
              "      <td>3.150</td>\n",
              "      <td>22.90</td>\n",
              "      <td>1</td>\n",
              "      <td>0</td>\n",
              "      <td>4</td>\n",
              "      <td>2</td>\n",
              "    </tr>\n",
              "    <tr>\n",
              "      <th>9</th>\n",
              "      <td>Merc 280</td>\n",
              "      <td>19.2</td>\n",
              "      <td>6</td>\n",
              "      <td>167.6</td>\n",
              "      <td>123</td>\n",
              "      <td>3.92</td>\n",
              "      <td>3.440</td>\n",
              "      <td>18.30</td>\n",
              "      <td>1</td>\n",
              "      <td>0</td>\n",
              "      <td>4</td>\n",
              "      <td>4</td>\n",
              "    </tr>\n",
              "    <tr>\n",
              "      <th>10</th>\n",
              "      <td>Merc 280C</td>\n",
              "      <td>17.8</td>\n",
              "      <td>6</td>\n",
              "      <td>167.6</td>\n",
              "      <td>123</td>\n",
              "      <td>3.92</td>\n",
              "      <td>3.440</td>\n",
              "      <td>18.90</td>\n",
              "      <td>1</td>\n",
              "      <td>0</td>\n",
              "      <td>4</td>\n",
              "      <td>4</td>\n",
              "    </tr>\n",
              "    <tr>\n",
              "      <th>11</th>\n",
              "      <td>Merc 450SE</td>\n",
              "      <td>16.4</td>\n",
              "      <td>8</td>\n",
              "      <td>275.8</td>\n",
              "      <td>180</td>\n",
              "      <td>3.07</td>\n",
              "      <td>4.070</td>\n",
              "      <td>17.40</td>\n",
              "      <td>0</td>\n",
              "      <td>0</td>\n",
              "      <td>3</td>\n",
              "      <td>3</td>\n",
              "    </tr>\n",
              "    <tr>\n",
              "      <th>12</th>\n",
              "      <td>Merc 450SL</td>\n",
              "      <td>17.3</td>\n",
              "      <td>8</td>\n",
              "      <td>275.8</td>\n",
              "      <td>180</td>\n",
              "      <td>3.07</td>\n",
              "      <td>3.730</td>\n",
              "      <td>17.60</td>\n",
              "      <td>0</td>\n",
              "      <td>0</td>\n",
              "      <td>3</td>\n",
              "      <td>3</td>\n",
              "    </tr>\n",
              "    <tr>\n",
              "      <th>13</th>\n",
              "      <td>Merc 450SLC</td>\n",
              "      <td>15.2</td>\n",
              "      <td>8</td>\n",
              "      <td>275.8</td>\n",
              "      <td>180</td>\n",
              "      <td>3.07</td>\n",
              "      <td>3.780</td>\n",
              "      <td>18.00</td>\n",
              "      <td>0</td>\n",
              "      <td>0</td>\n",
              "      <td>3</td>\n",
              "      <td>3</td>\n",
              "    </tr>\n",
              "    <tr>\n",
              "      <th>14</th>\n",
              "      <td>Cadillac Fleetwood</td>\n",
              "      <td>10.4</td>\n",
              "      <td>8</td>\n",
              "      <td>472.0</td>\n",
              "      <td>205</td>\n",
              "      <td>2.93</td>\n",
              "      <td>5.250</td>\n",
              "      <td>17.98</td>\n",
              "      <td>0</td>\n",
              "      <td>0</td>\n",
              "      <td>3</td>\n",
              "      <td>4</td>\n",
              "    </tr>\n",
              "    <tr>\n",
              "      <th>15</th>\n",
              "      <td>Lincoln Continental</td>\n",
              "      <td>10.4</td>\n",
              "      <td>8</td>\n",
              "      <td>460.0</td>\n",
              "      <td>215</td>\n",
              "      <td>3.00</td>\n",
              "      <td>5.424</td>\n",
              "      <td>17.82</td>\n",
              "      <td>0</td>\n",
              "      <td>0</td>\n",
              "      <td>3</td>\n",
              "      <td>4</td>\n",
              "    </tr>\n",
              "    <tr>\n",
              "      <th>16</th>\n",
              "      <td>Chrysler Imperial</td>\n",
              "      <td>14.7</td>\n",
              "      <td>8</td>\n",
              "      <td>440.0</td>\n",
              "      <td>230</td>\n",
              "      <td>3.23</td>\n",
              "      <td>5.345</td>\n",
              "      <td>17.42</td>\n",
              "      <td>0</td>\n",
              "      <td>0</td>\n",
              "      <td>3</td>\n",
              "      <td>4</td>\n",
              "    </tr>\n",
              "    <tr>\n",
              "      <th>17</th>\n",
              "      <td>Fiat 128</td>\n",
              "      <td>32.4</td>\n",
              "      <td>4</td>\n",
              "      <td>78.7</td>\n",
              "      <td>66</td>\n",
              "      <td>4.08</td>\n",
              "      <td>2.200</td>\n",
              "      <td>19.47</td>\n",
              "      <td>1</td>\n",
              "      <td>1</td>\n",
              "      <td>4</td>\n",
              "      <td>1</td>\n",
              "    </tr>\n",
              "    <tr>\n",
              "      <th>18</th>\n",
              "      <td>Honda Civic</td>\n",
              "      <td>30.4</td>\n",
              "      <td>4</td>\n",
              "      <td>75.7</td>\n",
              "      <td>52</td>\n",
              "      <td>4.93</td>\n",
              "      <td>1.615</td>\n",
              "      <td>18.52</td>\n",
              "      <td>1</td>\n",
              "      <td>1</td>\n",
              "      <td>4</td>\n",
              "      <td>2</td>\n",
              "    </tr>\n",
              "    <tr>\n",
              "      <th>19</th>\n",
              "      <td>Toyota Corolla</td>\n",
              "      <td>33.9</td>\n",
              "      <td>4</td>\n",
              "      <td>71.1</td>\n",
              "      <td>65</td>\n",
              "      <td>4.22</td>\n",
              "      <td>1.835</td>\n",
              "      <td>19.90</td>\n",
              "      <td>1</td>\n",
              "      <td>1</td>\n",
              "      <td>4</td>\n",
              "      <td>1</td>\n",
              "    </tr>\n",
              "    <tr>\n",
              "      <th>20</th>\n",
              "      <td>Toyota Corona</td>\n",
              "      <td>21.5</td>\n",
              "      <td>4</td>\n",
              "      <td>120.1</td>\n",
              "      <td>97</td>\n",
              "      <td>3.70</td>\n",
              "      <td>2.465</td>\n",
              "      <td>20.01</td>\n",
              "      <td>1</td>\n",
              "      <td>0</td>\n",
              "      <td>3</td>\n",
              "      <td>1</td>\n",
              "    </tr>\n",
              "    <tr>\n",
              "      <th>21</th>\n",
              "      <td>Dodge Challenger</td>\n",
              "      <td>15.5</td>\n",
              "      <td>8</td>\n",
              "      <td>318.0</td>\n",
              "      <td>150</td>\n",
              "      <td>2.76</td>\n",
              "      <td>3.520</td>\n",
              "      <td>16.87</td>\n",
              "      <td>0</td>\n",
              "      <td>0</td>\n",
              "      <td>3</td>\n",
              "      <td>2</td>\n",
              "    </tr>\n",
              "    <tr>\n",
              "      <th>22</th>\n",
              "      <td>AMC Javelin</td>\n",
              "      <td>15.2</td>\n",
              "      <td>8</td>\n",
              "      <td>304.0</td>\n",
              "      <td>150</td>\n",
              "      <td>3.15</td>\n",
              "      <td>3.435</td>\n",
              "      <td>17.30</td>\n",
              "      <td>0</td>\n",
              "      <td>0</td>\n",
              "      <td>3</td>\n",
              "      <td>2</td>\n",
              "    </tr>\n",
              "    <tr>\n",
              "      <th>23</th>\n",
              "      <td>Camaro Z28</td>\n",
              "      <td>13.3</td>\n",
              "      <td>8</td>\n",
              "      <td>350.0</td>\n",
              "      <td>245</td>\n",
              "      <td>3.73</td>\n",
              "      <td>3.840</td>\n",
              "      <td>15.41</td>\n",
              "      <td>0</td>\n",
              "      <td>0</td>\n",
              "      <td>3</td>\n",
              "      <td>4</td>\n",
              "    </tr>\n",
              "    <tr>\n",
              "      <th>24</th>\n",
              "      <td>Pontiac Firebird</td>\n",
              "      <td>19.2</td>\n",
              "      <td>8</td>\n",
              "      <td>400.0</td>\n",
              "      <td>175</td>\n",
              "      <td>3.08</td>\n",
              "      <td>3.845</td>\n",
              "      <td>17.05</td>\n",
              "      <td>0</td>\n",
              "      <td>0</td>\n",
              "      <td>3</td>\n",
              "      <td>2</td>\n",
              "    </tr>\n",
              "  </tbody>\n",
              "</table>\n",
              "</div>"
            ],
            "text/plain": [
              "                  model   mpg  cyl   disp   hp  drat     wt   qsec  vs  am  \\\n",
              "0             Mazda RX4  21.0    6  160.0  110  3.90  2.620  16.46   0   1   \n",
              "1         Mazda RX4 Wag  21.0    6  160.0  110  3.90  2.875  17.02   0   1   \n",
              "2            Datsun 710  22.8    4  108.0   93  3.85  2.320  18.61   1   1   \n",
              "3        Hornet 4 Drive  21.4    6  258.0  110  3.08  3.215  19.44   1   0   \n",
              "4     Hornet Sportabout  18.7    8  360.0  175  3.15  3.440  17.02   0   0   \n",
              "5               Valiant  18.1    6  225.0  105  2.76  3.460  20.22   1   0   \n",
              "6            Duster 360  14.3    8  360.0  245  3.21  3.570  15.84   0   0   \n",
              "7             Merc 240D  24.4    4  146.7   62  3.69  3.190  20.00   1   0   \n",
              "8              Merc 230  22.8    4  140.8   95  3.92  3.150  22.90   1   0   \n",
              "9              Merc 280  19.2    6  167.6  123  3.92  3.440  18.30   1   0   \n",
              "10            Merc 280C  17.8    6  167.6  123  3.92  3.440  18.90   1   0   \n",
              "11           Merc 450SE  16.4    8  275.8  180  3.07  4.070  17.40   0   0   \n",
              "12           Merc 450SL  17.3    8  275.8  180  3.07  3.730  17.60   0   0   \n",
              "13          Merc 450SLC  15.2    8  275.8  180  3.07  3.780  18.00   0   0   \n",
              "14   Cadillac Fleetwood  10.4    8  472.0  205  2.93  5.250  17.98   0   0   \n",
              "15  Lincoln Continental  10.4    8  460.0  215  3.00  5.424  17.82   0   0   \n",
              "16    Chrysler Imperial  14.7    8  440.0  230  3.23  5.345  17.42   0   0   \n",
              "17             Fiat 128  32.4    4   78.7   66  4.08  2.200  19.47   1   1   \n",
              "18          Honda Civic  30.4    4   75.7   52  4.93  1.615  18.52   1   1   \n",
              "19       Toyota Corolla  33.9    4   71.1   65  4.22  1.835  19.90   1   1   \n",
              "20        Toyota Corona  21.5    4  120.1   97  3.70  2.465  20.01   1   0   \n",
              "21     Dodge Challenger  15.5    8  318.0  150  2.76  3.520  16.87   0   0   \n",
              "22          AMC Javelin  15.2    8  304.0  150  3.15  3.435  17.30   0   0   \n",
              "23           Camaro Z28  13.3    8  350.0  245  3.73  3.840  15.41   0   0   \n",
              "24     Pontiac Firebird  19.2    8  400.0  175  3.08  3.845  17.05   0   0   \n",
              "\n",
              "    gear  carb  \n",
              "0      4     4  \n",
              "1      4     4  \n",
              "2      4     1  \n",
              "3      3     1  \n",
              "4      3     2  \n",
              "5      3     1  \n",
              "6      3     4  \n",
              "7      4     2  \n",
              "8      4     2  \n",
              "9      4     4  \n",
              "10     4     4  \n",
              "11     3     3  \n",
              "12     3     3  \n",
              "13     3     3  \n",
              "14     3     4  \n",
              "15     3     4  \n",
              "16     3     4  \n",
              "17     4     1  \n",
              "18     4     2  \n",
              "19     4     1  \n",
              "20     3     1  \n",
              "21     3     2  \n",
              "22     3     2  \n",
              "23     3     4  \n",
              "24     3     2  "
            ]
          },
          "execution_count": 13,
          "metadata": {},
          "output_type": "execute_result"
        }
      ],
      "source": [
        "import pandas as pd\n",
        "import numpy as np\n",
        "from sklearn.linear_model import LinearRegression\n",
        "import matplotlib.pyplot as plt\n",
        "from sklearn import datasets\n",
        "data = pd.read_csv('mtcars.csv', header=(0))\n",
        "print(\"Número de linhas e colunas:\",data.shape)\n",
        "data.head(25)"
      ]
    },
    {
      "cell_type": "code",
      "execution_count": null,
      "metadata": {
        "id": "ZFm-WcqGVR3m"
      },
      "outputs": [],
      "source": [
        "data = data.to_numpy()\n",
        "y = data[:,3]\n",
        "x = np.linspace(1,33,32) "
      ]
    },
    {
      "cell_type": "code",
      "execution_count": null,
      "metadata": {
        "id": "1V8XTxqFVR3m",
        "outputId": "06939133-7722-42d6-d39f-1e6e031cb9cf"
      },
      "outputs": [
        {
          "data": {
            "text/plain": [
              "[<matplotlib.lines.Line2D at 0x26b597ee880>]"
            ]
          },
          "execution_count": 15,
          "metadata": {},
          "output_type": "execute_result"
        },
        {
          "data": {
            "image/png": "[encoded data removed]",
            "text/plain": [
              "<Figure size 432x288 with 1 Axes>"
            ]
          },
          "metadata": {
            "needs_background": "light"
          },
          "output_type": "display_data"
        }
      ],
      "source": [
        "plt.plot(x, y)"
      ]
    },
    {
      "cell_type": "code",
      "execution_count": null,
      "metadata": {
        "id": "T0dU2paEVR3n",
        "outputId": "7e3fc044-5569-4322-b224-13d24c3745db"
      },
      "outputs": [
        {
          "name": "stdout",
          "output_type": "stream",
          "text": [
            "7476.232258064519\n"
          ]
        }
      ],
      "source": [
        "I = np.trapz(y,x)\n",
        "print(I)"
      ]
    },
    {
      "cell_type": "markdown",
      "metadata": {
        "id": "kEf7gGibVR3n"
      },
      "source": [
        "# Exemplo Método de Simpson"
      ]
    },
    {
      "cell_type": "markdown",
      "metadata": {
        "id": "Pky00oroVR3n"
      },
      "source": [
        "# sintaxe da função simpson\n",
        "# simpson(limite inferior, limite superior, número de subintervalos)"
      ]
    },
    {
      "cell_type": "code",
      "execution_count": null,
      "metadata": {
        "id": "iaPhDunWVR3n"
      },
      "outputs": [],
      "source": [
        "import numpy as np\n",
        "# Define function to integrate\n",
        "def f(x):\n",
        "    return (x**2+2*x-3)\n",
        "\n",
        "# Implementing Simpson's 1/3 \n",
        "def simpson(x0,xn,n):\n",
        "    # calculating step size\n",
        "    h = (xn - x0) / n\n",
        "    \n",
        "    # Finding sum \n",
        "    integration = f(x0) + f(xn)\n",
        "    \n",
        "    for i in range(1,n):\n",
        "        k = x0 + i*h\n",
        "        \n",
        "        if i%2 == 0:\n",
        "            integration = integration + 2 * f(k)\n",
        "        else:\n",
        "            integration = integration + 4 * f(k)\n",
        "    \n",
        "    # Finding final integration value\n",
        "    integration = integration * h/3\n",
        "    \n",
        "    return integration"
      ]
    },
    {
      "cell_type": "code",
      "execution_count": null,
      "metadata": {
        "id": "9vRO3m6sVR3n",
        "outputId": "15674d10-2f6e-4425-fdb9-89aabff68668"
      },
      "outputs": [
        {
          "name": "stdout",
          "output_type": "stream",
          "text": [
            "Integracao resultado por Simpson é: -10.666667\n"
          ]
        }
      ],
      "source": [
        "result = simpson(-3, 1, 4)\n",
        "print(\"Integracao resultado por Simpson é: %0.6f\" % (result) )"
      ]
    },
    {
      "cell_type": "markdown",
      "metadata": {
        "id": "xDAlqQZVVoKk"
      },
      "source": [
        "![image.png](data:image/png;base64,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)"
      ]
    },
    {
      "cell_type": "markdown",
      "metadata": {
        "id": "QS4kIymtV8_6"
      },
      "source": [
        "![image.png](data:image/png;base64,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)"
      ]
    },
    {
      "cell_type": "code",
      "execution_count": null,
      "metadata": {
        "id": "Qn6XmqilWPbw"
      },
      "outputs": [],
      "source": [
        "# resolução do exercício 1"
      ]
    },
    {
      "cell_type": "markdown",
      "metadata": {
        "id": "d242JFEqWoko"
      },
      "source": [
        "# Exercício 2\n",
        "![image.png](data:image/png;base64,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)"
      ]
    },
    {
      "cell_type": "markdown",
      "metadata": {
        "id": "gVgIzk7MWt6h"
      },
      "source": [
        "![image.png](data:image/png;base64,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)"
      ]
    },
    {
      "cell_type": "code",
      "execution_count": null,
      "metadata": {
        "id": "GSdGTeTpYn43"
      },
      "outputs": [],
      "source": [
        "# resolução do Exercício 2"
      ]
    },
    {
      "cell_type": "markdown",
      "metadata": {
        "id": "KhOimSbZW8LF"
      },
      "source": [
        "# Exercício 3\n",
        "\n",
        "A quantidade de remédio para resfriado que o organismo humano absorve em T horas é dado pela integral \n",
        "\n",
        "![image.png](data:image/png;base64,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)\n",
        "\n",
        "Determinar a quantidade C (em mg) absorvida pelo organismo em T=16 horas. Utilizar a regra do trapézio, dividindo o intervalo em 4 parte iguais. Calcular o erro cometido na integração numérica.\n"
      ]
    },
    {
      "cell_type": "code",
      "execution_count": null,
      "metadata": {
        "id": "luZz8STGZE8a"
      },
      "outputs": [],
      "source": [
        "# resolução do Exercício 3"
      ]
    }
  ],
  "metadata": {
    "colab": {
      "provenance": []
    },
    "kernelspec": {
      "display_name": "Python 3.10.0 64-bit",
      "language": "python",
      "name": "python3"
    },
    "language_info": {
      "codemirror_mode": {
        "name": "ipython",
        "version": 3
      },
      "file_extension": ".py",
      "mimetype": "text/x-python",
      "name": "python",
      "nbconvert_exporter": "python",
      "pygments_lexer": "ipython3",
      "version": "3.10.0"
    },
    "vscode": {
      "interpreter": {
        "hash": "26de051ba29f2982a8de78e945f0abaf191376122a1563185a90213a26c5da77"
      }
    }
  },
  "nbformat": 4,
  "nbformat_minor": 0
}
