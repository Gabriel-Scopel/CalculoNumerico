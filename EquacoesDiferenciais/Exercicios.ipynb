{
 "cells": [
  {
   "cell_type": "markdown",
   "metadata": {},
   "source": [
    "# Exercicios"
   ]
  },
  {
   "cell_type": "code",
   "execution_count": 13,
   "metadata": {},
   "outputs": [],
   "source": [
    "import numpy as np\n",
    "import matplotlib.pyplot as plt\n",
    "import sympy as sym\n",
    "import scipy as sp\n",
    "from scipy.integrate import odeint"
   ]
  },
  {
   "cell_type": "markdown",
   "metadata": {},
   "source": [
    "#### Exercicio 1 - Resolver pelo método de Euler, com passo h=0.2 e x$\\epsilon$[0 ,1] a equação diferencial y’=x/y, com y(0)=1. Resolver também usando o dsolve."
   ]
  },
  {
   "cell_type": "code",
   "execution_count": 12,
   "metadata": {},
   "outputs": [
    {
     "name": "stdout",
     "output_type": "stream",
     "text": [
      "[1.         1.         1.04       1.11692308 1.22436109 1.3550415 ]\n"
     ]
    },
    {
     "data": {
      "image/png": "[encoded data removed]",
      "text/plain": [
       "<Figure size 432x288 with 1 Axes>"
      ]
     },
     "metadata": {
      "needs_background": "light"
     },
     "output_type": "display_data"
    }
   ],
   "source": [
    "# Metodo de Euler\n",
    "def odeEuler(f,y0,t):\n",
    "  y = np.zeros(len(t))\n",
    "  y[0] = y0\n",
    "  for n in range(0,len(t)-1):\n",
    "    y[n+1] = y[n] + f(y[n],t[n])*(t[n+1] - t[n])\n",
    "  return y\n",
    "\n",
    "t = np.linspace(0,1,6)\n",
    "y0 = 1\n",
    "f = lambda y,t: t/y\n",
    "y = odeEuler(f,y0,t)\n",
    "print(y)\n",
    "\n",
    "# grafico\n",
    "plt.plot(t,y,'b.-')\n",
    "plt.legend(['Euler'])\n",
    "plt.axis([0,1,1,2])\n",
    "plt.grid(True)\n",
    "plt.show()"
   ]
  },
  {
   "cell_type": "code",
   "execution_count": 28,
   "metadata": {},
   "outputs": [
    {
     "data": {
      "text/latex": [
       "$\\displaystyle - \\frac{x}{y{\\left(x \\right)}} + \\frac{d}{d x} y{\\left(x \\right)} = 0$"
      ],
      "text/plain": [
       "Eq(-x/y(x) + Derivative(y(x), x), 0)"
      ]
     },
     "execution_count": 28,
     "metadata": {},
     "output_type": "execute_result"
    }
   ],
   "source": [
    "# dsolve\n",
    "x = sym.symbols('x')\n",
    "y= sym.symbols('y', cls=sym.Function)\n",
    "sol=sym.Eq(y(x).diff(x)-x/y(x), 0)\n",
    "sol\n"
   ]
  },
  {
   "cell_type": "code",
   "execution_count": 38,
   "metadata": {},
   "outputs": [
    {
     "name": "stdout",
     "output_type": "stream",
     "text": [
      "[Eq(y(x), -sqrt(C1 + x**2)), Eq(y(x), sqrt(C1 + x**2))]\n",
      "Eq(y(x), -sqrt(C1 + x**2))\n",
      "Eq(y(x), sqrt(C1 + x**2))\n"
     ]
    }
   ],
   "source": [
    "soln = sym.dsolve(sol, y(x))\n",
    "print(f\"{soln}\")\n",
    "print(f\"{soln[0]}\")\n",
    "print(f\"{soln[1]}\")"
   ]
  },
  {
   "cell_type": "code",
   "execution_count": 42,
   "metadata": {},
   "outputs": [
    {
     "data": {
      "text/plain": [
       "[]"
      ]
     },
     "metadata": {},
     "output_type": "display_data"
    },
    {
     "data": {
      "text/latex": [
       "$\\displaystyle y{\\left(x \\right)} = - \\sqrt{C_{1} + x^{2}}$"
      ],
      "text/plain": [
       "Eq(y(x), -sqrt(C1 + x**2))"
      ]
     },
     "metadata": {},
     "output_type": "display_data"
    }
   ],
   "source": [
    "constants = sym.solve([soln[0].rhs.subs(x,0) - 1]) #condição inicial y(0)=1\n",
    "display(constants)\n",
    "resposta=soln[0].subs(constants)\n",
    "display(resposta)"
   ]
  },
  {
   "cell_type": "code",
   "execution_count": 43,
   "metadata": {},
   "outputs": [
    {
     "data": {
      "text/plain": [
       "[{C1: 1}]"
      ]
     },
     "metadata": {},
     "output_type": "display_data"
    },
    {
     "ename": "KeyError",
     "evalue": "0",
     "output_type": "error",
     "traceback": [
      "\u001b[1;31m---------------------------------------------------------------------------\u001b[0m",
      "\u001b[1;31mKeyError\u001b[0m                                  Traceback (most recent call last)",
      "\u001b[1;32m<ipython-input-43-3e9252594266>\u001b[0m in \u001b[0;36m<module>\u001b[1;34m\u001b[0m\n\u001b[0;32m      1\u001b[0m \u001b[0mconstants\u001b[0m \u001b[1;33m=\u001b[0m \u001b[0msym\u001b[0m\u001b[1;33m.\u001b[0m\u001b[0msolve\u001b[0m\u001b[1;33m(\u001b[0m\u001b[1;33m[\u001b[0m\u001b[0msoln\u001b[0m\u001b[1;33m[\u001b[0m\u001b[1;36m1\u001b[0m\u001b[1;33m]\u001b[0m\u001b[1;33m.\u001b[0m\u001b[0mrhs\u001b[0m\u001b[1;33m.\u001b[0m\u001b[0msubs\u001b[0m\u001b[1;33m(\u001b[0m\u001b[0mx\u001b[0m\u001b[1;33m,\u001b[0m\u001b[1;36m0\u001b[0m\u001b[1;33m)\u001b[0m \u001b[1;33m-\u001b[0m \u001b[1;36m1\u001b[0m\u001b[1;33m]\u001b[0m\u001b[1;33m)\u001b[0m \u001b[1;31m#condição inicial y(0)=1\u001b[0m\u001b[1;33m\u001b[0m\u001b[1;33m\u001b[0m\u001b[0m\n\u001b[0;32m      2\u001b[0m \u001b[0mdisplay\u001b[0m\u001b[1;33m(\u001b[0m\u001b[0mconstants\u001b[0m\u001b[1;33m)\u001b[0m\u001b[1;33m\u001b[0m\u001b[1;33m\u001b[0m\u001b[0m\n\u001b[1;32m----> 3\u001b[1;33m \u001b[0mresposta\u001b[0m\u001b[1;33m=\u001b[0m\u001b[0msoln\u001b[0m\u001b[1;33m[\u001b[0m\u001b[1;36m1\u001b[0m\u001b[1;33m]\u001b[0m\u001b[1;33m.\u001b[0m\u001b[0msubs\u001b[0m\u001b[1;33m(\u001b[0m\u001b[0mconstants\u001b[0m\u001b[1;33m)\u001b[0m\u001b[1;33m\u001b[0m\u001b[1;33m\u001b[0m\u001b[0m\n\u001b[0m\u001b[0;32m      4\u001b[0m \u001b[0mdisplay\u001b[0m\u001b[1;33m(\u001b[0m\u001b[0mresposta\u001b[0m\u001b[1;33m)\u001b[0m\u001b[1;33m\u001b[0m\u001b[1;33m\u001b[0m\u001b[0m\n",
      "\u001b[1;32mc:\\ProgramData\\Anaconda3\\lib\\site-packages\\sympy\\core\\basic.py\u001b[0m in \u001b[0;36msubs\u001b[1;34m(self, *args, **kwargs)\u001b[0m\n\u001b[0;32m    900\u001b[0m         \u001b[0msequence\u001b[0m \u001b[1;33m=\u001b[0m \u001b[0mlist\u001b[0m\u001b[1;33m(\u001b[0m\u001b[0msequence\u001b[0m\u001b[1;33m)\u001b[0m\u001b[1;33m\u001b[0m\u001b[1;33m\u001b[0m\u001b[0m\n\u001b[0;32m    901\u001b[0m         \u001b[1;32mfor\u001b[0m \u001b[0mi\u001b[0m\u001b[1;33m,\u001b[0m \u001b[0ms\u001b[0m \u001b[1;32min\u001b[0m \u001b[0menumerate\u001b[0m\u001b[1;33m(\u001b[0m\u001b[0msequence\u001b[0m\u001b[1;33m)\u001b[0m\u001b[1;33m:\u001b[0m\u001b[1;33m\u001b[0m\u001b[1;33m\u001b[0m\u001b[0m\n\u001b[1;32m--> 902\u001b[1;33m             \u001b[1;32mif\u001b[0m \u001b[0misinstance\u001b[0m\u001b[1;33m(\u001b[0m\u001b[0ms\u001b[0m\u001b[1;33m[\u001b[0m\u001b[1;36m0\u001b[0m\u001b[1;33m]\u001b[0m\u001b[1;33m,\u001b[0m \u001b[0mstr\u001b[0m\u001b[1;33m)\u001b[0m\u001b[1;33m:\u001b[0m\u001b[1;33m\u001b[0m\u001b[1;33m\u001b[0m\u001b[0m\n\u001b[0m\u001b[0;32m    903\u001b[0m                 \u001b[1;31m# when old is a string we prefer Symbol\u001b[0m\u001b[1;33m\u001b[0m\u001b[1;33m\u001b[0m\u001b[1;33m\u001b[0m\u001b[0m\n\u001b[0;32m    904\u001b[0m                 \u001b[0ms\u001b[0m \u001b[1;33m=\u001b[0m \u001b[0mSymbol\u001b[0m\u001b[1;33m(\u001b[0m\u001b[0ms\u001b[0m\u001b[1;33m[\u001b[0m\u001b[1;36m0\u001b[0m\u001b[1;33m]\u001b[0m\u001b[1;33m)\u001b[0m\u001b[1;33m,\u001b[0m \u001b[0ms\u001b[0m\u001b[1;33m[\u001b[0m\u001b[1;36m1\u001b[0m\u001b[1;33m]\u001b[0m\u001b[1;33m\u001b[0m\u001b[1;33m\u001b[0m\u001b[0m\n",
      "\u001b[1;31mKeyError\u001b[0m: 0"
     ]
    }
   ],
   "source": [
    "constants = sym.solve([soln[1].rhs.subs(x,0) - 1]) #condição inicial y(0)=1\n",
    "display(constants)\n",
    "resposta=soln[1].subs(constants)\n",
    "display(resposta)"
   ]
  },
  {
   "cell_type": "markdown",
   "metadata": {},
   "source": [
    "#### Exercicio 2 - Resolver pelo método de Euler, com passo h=0.2 e x$\\epsilon$[0, 1] a equação diferencial y’=y*cosx(x), com y(0)=1. Resolver também usando o odint."
   ]
  },
  {
   "cell_type": "code",
   "execution_count": 11,
   "metadata": {},
   "outputs": [
    {
     "name": "stdout",
     "output_type": "stream",
     "text": [
      "[1.         1.2        1.43521598 1.69960027 1.9801484  2.25606493]\n"
     ]
    },
    {
     "data": {
      "image/png": "[encoded data removed]",
      "text/plain": [
       "<Figure size 432x288 with 1 Axes>"
      ]
     },
     "metadata": {
      "needs_background": "light"
     },
     "output_type": "display_data"
    }
   ],
   "source": [
    "# Metodo de Euler\n",
    "def odeEuler(f,y0,t):\n",
    "  y = np.zeros(len(t))\n",
    "  y[0] = y0\n",
    "  for n in range(0,len(t)-1):\n",
    "    y[n+1] = y[n] + f(y[n],t[n])*(t[n+1] - t[n])\n",
    "  return y\n",
    "\n",
    "t = np.linspace(0,1,6)\n",
    "y0 = 1\n",
    "f = lambda y,t: y * np.cos(t)\n",
    "y = odeEuler(f,y0,t)\n",
    "print(y)\n",
    "\n",
    "# grafico\n",
    "plt.plot(t,y,'b.-')\n",
    "plt.legend(['Euler'])\n",
    "plt.axis([0,1,1,2])\n",
    "plt.grid(True)\n",
    "plt.show()"
   ]
  },
  {
   "cell_type": "code",
   "execution_count": 14,
   "metadata": {},
   "outputs": [
    {
     "name": "stdout",
     "output_type": "stream",
     "text": [
      "[[1.        ]\n",
      " [1.21977837]\n",
      " [1.47612173]\n",
      " [1.75881865]\n",
      " [2.04900842]\n",
      " [2.31977655]]\n"
     ]
    },
    {
     "data": {
      "image/png": "[encoded data removed]",
      "text/plain": [
       "<Figure size 432x288 with 1 Axes>"
      ]
     },
     "metadata": {
      "needs_background": "light"
     },
     "output_type": "display_data"
    }
   ],
   "source": [
    "# odint\n",
    "# function that returns dy/dt\n",
    "def model(y,t): \n",
    "    dydt = y * np.cos(t)\n",
    "    return dydt\n",
    "# initial condition\n",
    "y0 = 1\n",
    "# time points\n",
    "t = np.linspace(0,1,6)\n",
    "# solve ODE\n",
    "y = odeint(model,y0,t)\n",
    "print(y)\n",
    "# plot results\n",
    "plt.plot(t,y)\n",
    "plt.xlabel('x')\n",
    "plt.ylabel('y(x)')\n",
    "plt.grid(True)\n",
    "plt.show()"
   ]
  },
  {
   "cell_type": "markdown",
   "metadata": {},
   "source": [
    "#### Exercicio 3 - Aplique a formulação de Euler e estime o valor de y(2,2) da EDO  y’ = 3 – y/x, com condição inicial y(2) = 2 e passo h = 0,1."
   ]
  },
  {
   "cell_type": "code",
   "execution_count": 51,
   "metadata": {},
   "outputs": [
    {
     "name": "stdout",
     "output_type": "stream",
     "text": [
      "[2.         2.025      2.04878049 2.07142857 2.09302326]\n"
     ]
    },
    {
     "data": {
      "image/png": "[encoded data removed]",
      "text/plain": [
       "<Figure size 432x288 with 1 Axes>"
      ]
     },
     "metadata": {
      "needs_background": "light"
     },
     "output_type": "display_data"
    }
   ],
   "source": [
    "def odeEuler(f,y0,t):\n",
    "    y = np.zeros(len(t))\n",
    "    y[0] = y0\n",
    "    for n in range(0,len(t)-1):\n",
    "        y[n+1] = y[n] + f(y[n],t[n])*(t[n+1] - t[n])\n",
    "    return y\n",
    "\n",
    "t = np.linspace(2,2.2,5)\n",
    "y2 = 2\n",
    "f = lambda y,t: (3 - y) / t\n",
    "y = odeEuler(f,y2,t)\n",
    "print(y)\n",
    "plt.plot(t,y,'b.-')\n",
    "plt.legend(['Euler'])\n",
    "plt.axis([0,1,1,2])\n",
    "plt.grid(True)\n",
    "plt.show()"
   ]
  },
  {
   "cell_type": "markdown",
   "metadata": {},
   "source": [
    "#### Exercicio 4 - A temperatura T de uma caldeira depende dessa temperatura e do tempo t de aquecimento de acordo com a equação dT/dt=0.18 * T * t. Sabemos que a temperatura é T=80 C quando t=0. Calcular a temperatura quando t=2 e t=4 usando o odint."
   ]
  },
  {
   "cell_type": "code",
   "execution_count": 56,
   "metadata": {},
   "outputs": [
    {
     "name": "stdout",
     "output_type": "stream",
     "text": [
      "[[ 80.        ]\n",
      " [ 87.53395018]\n",
      " [114.66636501]\n",
      " [179.83266584]\n",
      " [337.65573863]]\n"
     ]
    },
    {
     "data": {
      "image/png": "[encoded data removed]",
      "text/plain": [
       "<Figure size 432x288 with 1 Axes>"
      ]
     },
     "metadata": {
      "needs_background": "light"
     },
     "output_type": "display_data"
    }
   ],
   "source": [
    "# function that returns dy/dt\n",
    "def model(T,t): \n",
    "    dydt = 0.18 * T * t\n",
    "    return dydt\n",
    "# initial condition\n",
    "T0 = 80\n",
    "# time points\n",
    "t = np.linspace(0,4,5)\n",
    "# solve ODE\n",
    "T = odeint(model,T0,t)\n",
    "print(T)\n",
    "# plot results\n",
    "plt.plot(t,T)\n",
    "plt.xlabel('x')\n",
    "plt.ylabel('y(x)')\n",
    "plt.grid(True)\n",
    "plt.show()"
   ]
  }
 ],
 "metadata": {
  "kernelspec": {
   "display_name": "Python 3.8.8 ('base')",
   "language": "python",
   "name": "python3"
  },
  "language_info": {
   "codemirror_mode": {
    "name": "ipython",
    "version": 3
   },
   "file_extension": ".py",
   "mimetype": "text/x-python",
   "name": "python",
   "nbconvert_exporter": "python",
   "pygments_lexer": "ipython3",
   "version": "3.8.8"
  },
  "orig_nbformat": 4,
  "vscode": {
   "interpreter": {
    "hash": "ad2bdc8ecc057115af97d19610ffacc2b4e99fae6737bb82f5d7fb13d2f2c186"
   }
  }
 },
 "nbformat": 4,
 "nbformat_minor": 2
}
