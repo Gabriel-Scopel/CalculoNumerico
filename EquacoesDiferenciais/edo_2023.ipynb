{
 "cells": [
  {
   "cell_type": "markdown",
   "metadata": {},
   "source": [
    "## Método de Euler\n",
    "\n",
    "## Exemplo 1 : y'=y*x com y(0)=1"
   ]
  },
  {
   "cell_type": "code",
   "execution_count": 1,
   "metadata": {},
   "outputs": [],
   "source": [
    "import numpy as np\n",
    "import matplotlib.pyplot as plt"
   ]
  },
  {
   "cell_type": "code",
   "execution_count": 2,
   "metadata": {},
   "outputs": [],
   "source": [
    "def odeEuler(f,y0,t):\n",
    "    y = np.zeros(len(t))\n",
    "    y[0] = y0\n",
    "    for n in range(0,len(t)-1):\n",
    "        y[n+1] = y[n] + f(y[n],t[n])*(t[n+1] - t[n])\n",
    "    return y"
   ]
  },
  {
   "cell_type": "code",
   "execution_count": 3,
   "metadata": {},
   "outputs": [
    {
     "name": "stdout",
     "output_type": "stream",
     "text": [
      "[1.         1.         1.04       1.1232     1.257984   1.45926144]\n"
     ]
    },
    {
     "data": {
      "image/png": "[encoded data removed]",
      "text/plain": [
       "<Figure size 432x288 with 1 Axes>"
      ]
     },
     "metadata": {
      "needs_background": "light"
     },
     "output_type": "display_data"
    }
   ],
   "source": [
    "t = np.linspace(0,1,6)\n",
    "y0 = 1\n",
    "f = lambda y,t: y*t\n",
    "y = odeEuler(f,y0,t)\n",
    "print(y)\n",
    "plt.plot(t,y,'b.-')\n",
    "plt.legend(['Euler'])\n",
    "plt.axis([0,1,1,2])\n",
    "plt.grid(True)\n",
    "plt.show()\n"
   ]
  },
  {
   "cell_type": "markdown",
   "metadata": {},
   "source": [
    "# dsolve - python"
   ]
  },
  {
   "cell_type": "code",
   "execution_count": 4,
   "metadata": {},
   "outputs": [
    {
     "data": {
      "text/latex": [
       "$\\displaystyle - x y{\\left(x \\right)} + \\frac{d}{d x} y{\\left(x \\right)} = 0$"
      ],
      "text/plain": [
       "Eq(-x*y(x) + Derivative(y(x), x), 0)"
      ]
     },
     "execution_count": 4,
     "metadata": {},
     "output_type": "execute_result"
    }
   ],
   "source": [
    "import sympy as sym\n",
    "import scipy as sp\n",
    "import matplotlib.pyplot as plt\n",
    "x = sym.symbols('x')\n",
    "y= sym.symbols('y', cls=sym.Function)\n",
    "sol=sym.Eq(y(x).diff(x)-y(x)*x, 0)\n",
    "sol"
   ]
  },
  {
   "cell_type": "code",
   "execution_count": 5,
   "metadata": {},
   "outputs": [
    {
     "data": {
      "text/latex": [
       "$\\displaystyle y{\\left(x \\right)} = C_{1} e^{\\frac{x^{2}}{2}}$"
      ],
      "text/plain": [
       "Eq(y(x), C1*exp(x**2/2))"
      ]
     },
     "execution_count": 5,
     "metadata": {},
     "output_type": "execute_result"
    }
   ],
   "source": [
    "soln=sym.dsolve(sol,y(x))\n",
    "soln"
   ]
  },
  {
   "cell_type": "markdown",
   "metadata": {},
   "source": [
    "## Cálculo da constante C1 com condição inicial"
   ]
  },
  {
   "cell_type": "code",
   "execution_count": 6,
   "metadata": {},
   "outputs": [
    {
     "data": {
      "text/plain": [
       "{C1: 1}"
      ]
     },
     "metadata": {},
     "output_type": "display_data"
    },
    {
     "data": {
      "text/latex": [
       "$\\displaystyle y{\\left(x \\right)} = e^{\\frac{x^{2}}{2}}$"
      ],
      "text/plain": [
       "Eq(y(x), exp(x**2/2))"
      ]
     },
     "metadata": {},
     "output_type": "display_data"
    }
   ],
   "source": [
    "constants = sym.solve([soln.rhs.subs(x,0) - 1]) #condição inicial y(0)=1\n",
    "display(constants)\n",
    "resposta=soln.subs(constants)\n",
    "display(resposta)"
   ]
  },
  {
   "cell_type": "code",
   "execution_count": 7,
   "metadata": {},
   "outputs": [
    {
     "name": "stderr",
     "output_type": "stream",
     "text": [
      "<ipython-input-7-77694f6f4f04>:2: DeprecationWarning: scipy.arange is deprecated and will be removed in SciPy 2.0.0, use numpy.arange instead\n",
      "  xx = sp.arange(0,1,.01)\n"
     ]
    },
    {
     "data": {
      "image/png": "[encoded data removed]",
      "text/plain": [
       "<Figure size 432x288 with 1 Axes>"
      ]
     },
     "metadata": {
      "needs_background": "light"
     },
     "output_type": "display_data"
    }
   ],
   "source": [
    "func = sym.lambdify(x,resposta.rhs,'numpy')\n",
    "xx = sp.arange(0,1,.01) \n",
    "y = func(xx)\n",
    "plt.figure(1)\n",
    "plt.grid(True)\n",
    "plt.plot(xx,y);"
   ]
  },
  {
   "cell_type": "markdown",
   "metadata": {},
   "source": [
    "## odeint - python"
   ]
  },
  {
   "cell_type": "code",
   "execution_count": 8,
   "metadata": {},
   "outputs": [
    {
     "name": "stdout",
     "output_type": "stream",
     "text": [
      "[[1.        ]\n",
      " [1.02020147]\n",
      " [1.08328722]\n",
      " [1.19721756]\n",
      " [1.377128  ]\n",
      " [1.64872159]]\n"
     ]
    },
    {
     "data": {
      "image/png": "[encoded data removed]",
      "text/plain": [
       "<Figure size 432x288 with 1 Axes>"
      ]
     },
     "metadata": {
      "needs_background": "light"
     },
     "output_type": "display_data"
    }
   ],
   "source": [
    "import numpy as np\n",
    "from scipy.integrate import odeint\n",
    "import matplotlib.pyplot as plt\n",
    "# function that returns dy/dt\n",
    "def model(y,t): \n",
    "    dydt = y*t\n",
    "    return dydt\n",
    "# initial condition\n",
    "y0 = 1\n",
    "# time points\n",
    "t = np.linspace(0,1,6)\n",
    "# solve ODE\n",
    "y = odeint(model,y0,t)\n",
    "print(y)\n",
    "# plot results\n",
    "plt.plot(t,y)\n",
    "plt.xlabel('x')\n",
    "plt.ylabel('y(x)')\n",
    "plt.grid(True)\n",
    "plt.show()"
   ]
  },
  {
   "cell_type": "markdown",
   "metadata": {},
   "source": [
    "## Exemplo 2 : y'=y-(2*x)/y com y(0)=2"
   ]
  },
  {
   "cell_type": "code",
   "execution_count": 9,
   "metadata": {},
   "outputs": [
    {
     "name": "stdout",
     "output_type": "stream",
     "text": [
      "[[2.        ]\n",
      " [2.10271319]\n",
      " [2.21174697]\n",
      " [2.32854438]\n",
      " [2.45469772]\n",
      " [2.59196485]]\n"
     ]
    },
    {
     "data": {
      "image/png": "[encoded data removed]",
      "text/plain": [
       "<Figure size 432x288 with 1 Axes>"
      ]
     },
     "metadata": {
      "needs_background": "light"
     },
     "output_type": "display_data"
    }
   ],
   "source": [
    "import numpy as np\n",
    "from scipy.integrate import odeint\n",
    "import matplotlib.pyplot as plt\n",
    "# function that returns dy/dt\n",
    "def model(y,t): \n",
    "    dydt = y-(2*t)/y\n",
    "    return dydt\n",
    "# initial condition\n",
    "y0 = 2\n",
    "# time points\n",
    "t = np.linspace(1,1.5,6)\n",
    "# solve ODE\n",
    "y = odeint(model,y0,t)\n",
    "print(y)\n",
    "# plot results\n",
    "plt.plot(t,y)\n",
    "plt.xlabel('x')\n",
    "plt.ylabel('y(x)')\n",
    "plt.grid(True)\n",
    "plt.show()"
   ]
  },
  {
   "cell_type": "code",
   "execution_count": 10,
   "metadata": {},
   "outputs": [
    {
     "data": {
      "image/png": "[encoded data removed]",
      "text/plain": [
       "<Figure size 432x288 with 1 Axes>"
      ]
     },
     "metadata": {
      "needs_background": "light"
     },
     "output_type": "display_data"
    }
   ],
   "source": [
    "import numpy as np\n",
    "from scipy.integrate import odeint\n",
    "import matplotlib.pyplot as plt\n",
    "# function that returns dy/dt\n",
    "def model(y,t): \n",
    "    dydt=0.0873*y*(1-y/230000)\n",
    "\n",
    "    return dydt\n",
    "# initial condition\n",
    "y0 = 6850\n",
    "# time points\n",
    "p=[9534, 9896, 9712, 9876, 10295, 9959, 9702, 9331, 9305, 9607, 10562, \n",
    "    12384, 15080, 19141, 26839, 31710, 33200, 32829, 32237, 34543, 36590, \n",
    "    36145, 36538, 37329, 38766, 40216, 45603, 48832, 56587, 63921, 71844, \n",
    "    75014, 84434, 87024, 86211, 94997, 100241, 101755, 105617, 113520, 119595, \n",
    "   122445, 120244, 117711];\n",
    "t = np.linspace(1970,2013,44)\n",
    "# solve ODE\n",
    "y = odeint(model,y0,t)\n",
    "# plot results\n",
    "plt.plot(t,y,t,p,'+')\n",
    "plt.xlabel('x')\n",
    "plt.ylabel('y(x)')\n",
    "plt.grid(True)\n",
    "plt.show()\n",
    "\n",
    "\n",
    "\n"
   ]
  },
  {
   "cell_type": "markdown",
   "metadata": {},
   "source": [
    "## Resolver a equação diferencial y''+5y'+6y=exp(t), com y(0)=1 e y'(0)=3"
   ]
  },
  {
   "cell_type": "code",
   "execution_count": 11,
   "metadata": {},
   "outputs": [
    {
     "data": {
      "text/latex": [
       "$\\displaystyle 6 y{\\left(t \\right)} + 5 \\frac{d}{d t} y{\\left(t \\right)} + \\frac{d^{2}}{d t^{2}} y{\\left(t \\right)} = e^{t}$"
      ],
      "text/plain": [
       "Eq(6*y(t) + 5*Derivative(y(t), t) + Derivative(y(t), (t, 2)), exp(t))"
      ]
     },
     "execution_count": 11,
     "metadata": {},
     "output_type": "execute_result"
    }
   ],
   "source": [
    "import sympy as sym\n",
    "import scipy as sp\n",
    "import matplotlib.pyplot as plt\n",
    "t = sym.symbols('t')\n",
    "y= sym.symbols('y', cls=sym.Function)\n",
    "sol=sym.Eq(y(t).diff(t,2)+5*y(t).diff(t)+6*y(t), sym.exp(t))\n",
    "sol"
   ]
  },
  {
   "cell_type": "code",
   "execution_count": 12,
   "metadata": {},
   "outputs": [
    {
     "data": {
      "text/latex": [
       "$\\displaystyle y{\\left(t \\right)} = C_{1} e^{- 3 t} + C_{2} e^{- 2 t} + \\frac{e^{t}}{12}$"
      ],
      "text/plain": [
       "Eq(y(t), C1*exp(-3*t) + C2*exp(-2*t) + exp(t)/12)"
      ]
     },
     "execution_count": 12,
     "metadata": {},
     "output_type": "execute_result"
    }
   ],
   "source": [
    "soln=sym.dsolve(sol,y(t))\n",
    "soln"
   ]
  },
  {
   "cell_type": "code",
   "execution_count": 13,
   "metadata": {},
   "outputs": [
    {
     "data": {
      "text/plain": [
       "{C1: -19/4, C2: 17/3}"
      ]
     },
     "metadata": {},
     "output_type": "display_data"
    },
    {
     "data": {
      "text/latex": [
       "$\\displaystyle y{\\left(t \\right)} = \\frac{e^{t}}{12} + \\frac{17 e^{- 2 t}}{3} - \\frac{19 e^{- 3 t}}{4}$"
      ],
      "text/plain": [
       "Eq(y(t), exp(t)/12 + 17*exp(-2*t)/3 - 19*exp(-3*t)/4)"
      ]
     },
     "metadata": {},
     "output_type": "display_data"
    }
   ],
   "source": [
    "sol=soln.rhs\n",
    "dsol=sol.diff(t)\n",
    "constants = sym.solve([sol.subs(t,0) - 1, dsol.subs(t,0) - 3] )#condição inicial y(0)=1\n",
    "display(constants)\n",
    "resposta=soln.subs(constants)\n",
    "display(resposta)"
   ]
  },
  {
   "attachments": {},
   "cell_type": "markdown",
   "metadata": {},
   "source": [
    "## Exercício 1: \n",
    "Resolver pelo método de Euler, com passo h=0.2 e x$\\epsilon$[0 ,1] a equação diferencial y’=x/y, com y(0)=1.\n",
    "Resolver também usando o dsolve.\n"
   ]
  },
  {
   "cell_type": "code",
   "execution_count": 14,
   "metadata": {},
   "outputs": [],
   "source": [
    "## resolução do exercício"
   ]
  },
  {
   "cell_type": "markdown",
   "metadata": {},
   "source": [
    "## Exercício 2: \n",
    "\n",
    "Resolver pelo método de Euler, com passo h=0.2 e x$\\epsilon$[0, 1] a equação diferencial y’=y*cosx(x), com y(0)=1.\n",
    "Resolver também usando o odint."
   ]
  },
  {
   "cell_type": "code",
   "execution_count": 15,
   "metadata": {},
   "outputs": [],
   "source": [
    "## resolução do exercício"
   ]
  },
  {
   "cell_type": "markdown",
   "metadata": {},
   "source": [
    "## Exercício 3: \n",
    "\n",
    "Aplique a formulação de Euler e estime o valor de y(2,2) da EDO  y’ = 3 – y/x  \n",
    "com condição inicial y(2) = 2 e passo h = 0,1.\n"
   ]
  },
  {
   "cell_type": "markdown",
   "metadata": {},
   "source": [
    "## Exercício 4: \n",
    "\n",
    "A temperatura T de uma caldeira depende dessa temperatura e do tempo t de aquecimento de acordo com a equação dT/dt=0.18 * T * t. Sabemos que a temperatura é T=80 C quando t=0. Calcular a temperatura quando t=2 e t=4 usando o odint. \n"
   ]
  },
  {
   "cell_type": "code",
   "execution_count": null,
   "metadata": {},
   "outputs": [],
   "source": []
  }
 ],
 "metadata": {
  "kernelspec": {
   "display_name": "Python 3.8.8 ('base')",
   "language": "python",
   "name": "python3"
  },
  "language_info": {
   "codemirror_mode": {
    "name": "ipython",
    "version": 3
   },
   "file_extension": ".py",
   "mimetype": "text/x-python",
   "name": "python",
   "nbconvert_exporter": "python",
   "pygments_lexer": "ipython3",
   "version": "3.8.8"
  },
  "vscode": {
   "interpreter": {
    "hash": "ad2bdc8ecc057115af97d19610ffacc2b4e99fae6737bb82f5d7fb13d2f2c186"
   }
  }
 },
 "nbformat": 4,
 "nbformat_minor": 2
}
