{
  "cells": [
    {
      "cell_type": "markdown",
      "metadata": {
        "id": "BP_o83fEuakR"
      },
      "source": [
        "# **Numpy**"
      ]
    },
    {
      "cell_type": "markdown",
      "metadata": {
        "id": "4d5jls5ev2Dw"
      },
      "source": [
        "**Numpy** é um pacote Python para processamento matricial (computação orientada a matriz) onde:\n",
        "•\tas classes e métodos são majoritariamente escrito em C, garantindo eficiência computacional\n",
        "•\tpossui muitos recursos para computação científica e problemas de álgebra linear\n",
        "Vários outros pacotes do Python dependem fortemente do numpy , como por exemplo:\n",
        "•\tpandas\n",
        "•\tmatplotlib\n",
        "•\tsklearn\n",
        "\n",
        "Referência: https://python-course.eu/numerical-programming/introduction-to-numpy.php\n",
        "\n"
      ]
    },
    {
      "cell_type": "markdown",
      "metadata": {
        "id": "Atm39GzZ1yIw"
      },
      "source": [
        "**Numpy** é um pacote, precisa portanto ser importado. A forma típica de importar o numpy é import numpy as np porém, outras formas também podem ser utilizadas, como por exemplo:\n",
        "\n",
        "import numpy from numpy import *\n",
        "\n",
        "A estrutura de dados base do numpy são os arrays, que funcionam de forma semelhante às listas em Python, no entanto:\n",
        "* Todo elemento em um array deve ser do mesmo tipo, tipicamente um tipo numérico como float ou int\n",
        "* Os arrays viabilizam a realização eficiente de operações numéricas envolvendo grandes quantidades de dados, sendo para este fim, muito mais eficientes que as listas.\n",
        "* Cada dimensão de um array é chamada de eixo (axis)\n",
        "* \tOs eixos são numerados a partir de 0\n",
        "* Os elementos são acessados utilizando colchetes [ ] (semelhante às listas do Python)\n",
        "\n",
        "\n",
        "\n",
        "\n",
        "\n"
      ]
    },
    {
      "cell_type": "markdown",
      "metadata": {
        "id": "i-oAuBkLzfis"
      },
      "source": [
        "# **Numpy - Array**"
      ]
    },
    {
      "cell_type": "markdown",
      "metadata": {
        "id": "b-RRkZVdz1mC"
      },
      "source": [
        "Arrays podem ser construidos de muitas formas diferentes:\n",
        "* convertendo listas\n",
        "* via métodos do numpy\n",
        "* convertendo DataFrames\n"
      ]
    },
    {
      "cell_type": "code",
      "execution_count": 1,
      "metadata": {
        "colab": {
          "base_uri": "https://localhost:8080/"
        },
        "id": "W6qSMelV24aN",
        "outputId": "03b81cbd-1312-4a49-a819-a657360497a5"
      },
      "outputs": [
        {
          "name": "stdout",
          "output_type": "stream",
          "text": [
            "1D array ----- \n",
            "\n",
            "[ 1  3  5  7  9 10]\n",
            "[1, 3, 5, 7, 9, 10]\n"
          ]
        }
      ],
      "source": [
        "import numpy as np\n",
        "# criando um array unidimensional a partir de uma lista\n",
        "print(\"1D array\",5*'-','\\n')\n",
        "\n",
        "lst = [1,3,5,7,9,10]\n",
        "a1d = np.array(lst)\n",
        "print(a1d)\n",
        "\n",
        "# note que na impressão de um array, as vírgulas entre elementos não aparecem como no caso de listas\n",
        "print(lst)\n"
      ]
    },
    {
      "cell_type": "code",
      "execution_count": null,
      "metadata": {
        "colab": {
          "base_uri": "https://localhost:8080/"
        },
        "id": "jf4DkEBpGdr4",
        "outputId": "fc844c7c-ef57-4942-fcfd-6a28cb731bfc"
      },
      "outputs": [
        {
          "name": "stdout",
          "output_type": "stream",
          "text": [
            "b1d= [0. 0. 0. 0. 0. 0. 0. 0.]\n",
            "c1d= [1. 1. 1. 1. 1. 1. 1. 1. 1. 1.]\n",
            "d1d= [0 1 2 3 4 5 6 7 8 9]\n",
            "e1d= [1.   1.25 1.5  1.75 2.  ]\n"
          ]
        }
      ],
      "source": [
        "# Criando arrays unidimensionais a partir de métodos do numpy\n",
        "b1d = np.zeros((8))  # array com oito elementos iguais a zero\n",
        "print('b1d=',b1d)\n",
        "\n",
        "c1d = np.ones((10))  # array com oito elementos iguais a um\n",
        "print('c1d=',c1d)\n",
        "\n",
        "d1d = np.arange(10)  # array com numeros entre 0 e 9\n",
        "print('d1d=',d1d)\n",
        "\n",
        "e1d = np.linspace(1,2,5) #array com 5 números igualmente espaçados no intervalo entre 1 e 2 \n",
        "print('e1d=',e1d)"
      ]
    },
    {
      "cell_type": "code",
      "execution_count": null,
      "metadata": {
        "colab": {
          "base_uri": "https://localhost:8080/"
        },
        "id": "V1vE6QxhVXFS",
        "outputId": "18fb6cb5-5b50-43ab-fb05-5e876b934c6b"
      },
      "outputs": [
        {
          "name": "stdout",
          "output_type": "stream",
          "text": [
            "\n",
            " 2D array ----- \n",
            "\n",
            "a2d=\n",
            " [[ 1  3  5  7  9 11]\n",
            " [ 2  4  6  8 10 12]\n",
            " [ 0  1  2  3  4  5]]\n"
          ]
        }
      ],
      "source": [
        "# Criando array bidimensional (matriz) a partir de uma lista de listas\n",
        "print(\"\\n 2D array\",5*'-','\\n')\n",
        "a2d = np.array([[1,3,5,7,9,11],\n",
        "                  [2,4,6,8,10,12],\n",
        "                  [0,1,2,3,4,5]])\n",
        "print('a2d=\\n',a2d)"
      ]
    },
    {
      "cell_type": "code",
      "execution_count": null,
      "metadata": {
        "colab": {
          "base_uri": "https://localhost:8080/"
        },
        "id": "9xthDz-x9ixO",
        "outputId": "7f048ec0-6cab-40bf-94bd-5a4e5823fd6d"
      },
      "outputs": [
        {
          "name": "stdout",
          "output_type": "stream",
          "text": [
            "b2d=\n",
            " [[0. 0. 0.]\n",
            " [0. 0. 0.]\n",
            " [0. 0. 0.]\n",
            " [0. 0. 0.]\n",
            " [0. 0. 0.]]\n",
            "c2d=\n",
            " [[1. 1. 1. 1. 1. 1. 1. 1. 1. 1.]\n",
            " [1. 1. 1. 1. 1. 1. 1. 1. 1. 1.]\n",
            " [1. 1. 1. 1. 1. 1. 1. 1. 1. 1.]\n",
            " [1. 1. 1. 1. 1. 1. 1. 1. 1. 1.]\n",
            " [1. 1. 1. 1. 1. 1. 1. 1. 1. 1.]]\n",
            "d2d=\n",
            " [[1. 0. 0.]\n",
            " [0. 1. 0.]\n",
            " [0. 0. 1.]]\n"
          ]
        }
      ],
      "source": [
        "# Criando arrays ubidimensionais a partir de métodos do numpy\n",
        "b2d = np.zeros((5,3))  # criando matriz 5X3 de zeros\n",
        "print('b2d=\\n',b2d)\n",
        "\n",
        "c2d = np.ones((5,10))  # criando matriz 5X10 de uns\n",
        "print('c2d=\\n',c2d)\n",
        "\n",
        "d2d = np.identity(3) # criando matrix identidade 3X3\n",
        "print('d2d=\\n',d2d)"
      ]
    },
    {
      "cell_type": "markdown",
      "metadata": {
        "id": "LWyJUFU15KyG"
      },
      "source": [
        "# **Acessando os elementos um array**\n",
        "\n",
        "Como no caso de sequências, os índices de um array variam de 0 a $k_i-1$, onde $k_i$ é o número de elementos na dimensão $ i $"
      ]
    },
    {
      "cell_type": "code",
      "execution_count": null,
      "metadata": {
        "colab": {
          "base_uri": "https://localhost:8080/"
        },
        "id": "P9M-nZtM9ryK",
        "outputId": "c41bc1eb-1224-4f12-f209-e0870bb7794d"
      },
      "outputs": [
        {
          "name": "stdout",
          "output_type": "stream",
          "text": [
            "[ 1  3  5  7  9 10]\n",
            "elemento 0 =  1\n",
            "elemento de indice 3 =  7\n",
            "ultimo elemento do array =  10\n",
            "-----\n",
            "[[ 1  3  5  7  9 11]\n",
            " [ 2  4  6  8 10 12]\n",
            " [ 0  1  2  3  4  5]]\n",
            "linha de indice 1 =  [ 2  4  6  8 10 12]\n",
            "elemento na linha 0 coluna 1 =  3\n",
            "elemento na linha 1 coluna 2 =  6\n",
            "elemento na ultima linha e ultima coluna =  5\n"
          ]
        }
      ],
      "source": [
        "# Acessando elementos do array\n",
        "# Índices variam de 0 a ki-1 em cada dimensão, onde ki é o número de elementos no dimensão i\n",
        "print(a1d)\n",
        "print('elemento 0 = ',a1d[0])\n",
        "print('elemento de indice 3 = ',a1d[3])\n",
        "print('ultimo elemento do array = ',a1d[-1]) # -1 corresponde ao último elemento do array\n",
        "\n",
        "print(5*'-')\n",
        "print(a2d)\n",
        "print('linha de indice 1 = ',a2d[1]) # quando apenas um índice é fornecido \n",
        "                                     # para um array bidimensional\n",
        "                                     # o que é retornado é a linha correspondente \n",
        "                                     # ao índice fornecido\n",
        "            \n",
        "print('elemento na linha 0 coluna 1 = ',a2d[0,1])\n",
        "print('elemento na linha 1 coluna 2 = ',a2d[1,2])\n",
        "print('elemento na ultima linha e ultima coluna = ',a2d[-1,-1])"
      ]
    },
    {
      "cell_type": "code",
      "execution_count": null,
      "metadata": {
        "colab": {
          "base_uri": "https://localhost:8080/"
        },
        "id": "t0C1loZhTaAn",
        "outputId": "e9aa5fb7-1acd-49e5-b5c2-7e6f5180f50e"
      },
      "outputs": [
        {
          "name": "stdout",
          "output_type": "stream",
          "text": [
            "A=\n",
            " [[1 0 3]\n",
            " [5 4 1]\n",
            " [2 3 1]]\n",
            "B=\n",
            " [[3 1 4]\n",
            " [1 2 1]\n",
            " [3 1 1]]\n"
          ]
        }
      ],
      "source": [
        "import numpy as np\n",
        "\n",
        "A = np.array([[1,0,3],[5,4,1], [2,3,1]])\n",
        "print('A=\\n',A)\n",
        "B = np.array([[3,1,4],[1,2,1], [3,1,1]])\n",
        "print('B=\\n',B)"
      ]
    },
    {
      "cell_type": "code",
      "execution_count": null,
      "metadata": {
        "colab": {
          "base_uri": "https://localhost:8080/"
        },
        "id": "80TxETWsXrZ6",
        "outputId": "e2d4e132-a38c-4f34-d51a-c2f97e948ff2"
      },
      "outputs": [
        {
          "name": "stdout",
          "output_type": "stream",
          "text": [
            "C=\n",
            " [[4 1 7]\n",
            " [6 6 2]\n",
            " [5 4 2]]\n"
          ]
        }
      ],
      "source": [
        "C=A+B\n",
        "print('C=\\n',C)"
      ]
    },
    {
      "cell_type": "markdown",
      "metadata": {
        "id": "BAU1AqPXYDCa"
      },
      "source": [
        "# **Multiplicação de Matrizes**\n",
        "\n",
        "**np.dot()**"
      ]
    },
    {
      "cell_type": "code",
      "execution_count": null,
      "metadata": {
        "colab": {
          "base_uri": "https://localhost:8080/"
        },
        "id": "DjMgusONYN3f",
        "outputId": "d5168d9b-bfcb-4f9f-c023-7b6ef3abf41a"
      },
      "outputs": [
        {
          "name": "stdout",
          "output_type": "stream",
          "text": [
            "D=\n",
            " [[12  4  7]\n",
            " [22 14 25]\n",
            " [12  9 12]]\n"
          ]
        }
      ],
      "source": [
        "D=np.dot(A,B)\n",
        "print('D=\\n',D)"
      ]
    },
    {
      "cell_type": "markdown",
      "metadata": {
        "id": "SGQieWDto_Kv"
      },
      "source": [
        "# **Transposta de uma matriz**\n",
        "A transposta de uma matriz pode ser calculada simplismente invocando o atributo .T do objeto 'ndarray'"
      ]
    },
    {
      "cell_type": "code",
      "execution_count": null,
      "metadata": {
        "colab": {
          "base_uri": "https://localhost:8080/"
        },
        "id": "jd7r70UyUC-6",
        "outputId": "6638bbfc-8894-463d-b316-707854de5549"
      },
      "outputs": [
        {
          "name": "stdout",
          "output_type": "stream",
          "text": [
            "[[1. 1. 1.]\n",
            " [1. 1. 1.]\n",
            " [1. 1. 1.]\n",
            " [1. 1. 1.]\n",
            " [1. 1. 1.]]\n",
            "(5, 3)\n",
            "\n",
            "Obtendo a transposta\n",
            "[[1. 1. 1. 1. 1.]\n",
            " [1. 1. 1. 1. 1.]\n",
            " [1. 1. 1. 1. 1.]]\n",
            "(3, 5)\n"
          ]
        }
      ],
      "source": [
        "a = np.ones((5,3)) # matriz 5x3 com valores 1\n",
        "print(a)\n",
        "print(a.shape)\n",
        "\n",
        "print('\\nObtendo a transposta')\n",
        "a_transposta = a.T\n",
        "print(a_transposta)\n",
        "print(a_transposta.shape)\n"
      ]
    },
    {
      "cell_type": "code",
      "execution_count": null,
      "metadata": {
        "colab": {
          "base_uri": "https://localhost:8080/"
        },
        "id": "Ou9feoAppSB5",
        "outputId": "f4f9e6c2-9ff8-4dd0-db3a-3240caf019db"
      },
      "outputs": [
        {
          "name": "stdout",
          "output_type": "stream",
          "text": [
            "\n",
            "Obtendo a transposta\n",
            "[[3 1 3]\n",
            " [1 2 1]\n",
            " [4 1 1]]\n",
            "(3, 3)\n"
          ]
        }
      ],
      "source": [
        "print('\\nObtendo a transposta')\n",
        "b_transposta = B.T\n",
        "print(b_transposta)\n",
        "print(b_transposta.shape)"
      ]
    },
    {
      "cell_type": "markdown",
      "metadata": {
        "id": "5JvI74drybAH"
      },
      "source": [
        "# **Determinante de uma matriz**"
      ]
    },
    {
      "cell_type": "code",
      "execution_count": null,
      "metadata": {
        "colab": {
          "base_uri": "https://localhost:8080/"
        },
        "id": "21jVifL2ymxS",
        "outputId": "7e728e0b-ae9f-4652-f357-cdec743c9232"
      },
      "outputs": [
        {
          "name": "stdout",
          "output_type": "stream",
          "text": [
            "22.00\n"
          ]
        }
      ],
      "source": [
        "determ = np.linalg.det( A )\n",
        "print(\"%.2f\" %determ)"
      ]
    },
    {
      "cell_type": "markdown",
      "metadata": {
        "id": "yOTibCtHy7jF"
      },
      "source": [
        "# **Inversa de uma matriz**"
      ]
    },
    {
      "cell_type": "code",
      "execution_count": null,
      "metadata": {
        "colab": {
          "base_uri": "https://localhost:8080/"
        },
        "id": "hDvXxD7BzAWA",
        "outputId": "faec22d7-4815-4522-deb9-1e1bdd49edd9"
      },
      "outputs": [
        {
          "name": "stdout",
          "output_type": "stream",
          "text": [
            "[[ 0.05  0.41 -0.55]\n",
            " [-0.14 -0.23  0.64]\n",
            " [ 0.32 -0.14  0.18]]\n"
          ]
        }
      ],
      "source": [
        "import math\n",
        "inv = np.linalg.inv( A )\n",
        "print(np.round(inv,2))\n",
        "                 "
      ]
    },
    {
      "cell_type": "markdown",
      "metadata": {
        "id": "Dnihne89zu_Y"
      },
      "source": [
        "# **Matriz identidade**"
      ]
    },
    {
      "cell_type": "code",
      "execution_count": null,
      "metadata": {
        "colab": {
          "base_uri": "https://localhost:8080/"
        },
        "id": "CPycZNHAzzZ6",
        "outputId": "f2b0fd83-4226-4f52-aff0-5d76ed1e0fe6"
      },
      "outputs": [
        {
          "name": "stdout",
          "output_type": "stream",
          "text": [
            "d2d=\n",
            " [[1. 0. 0.]\n",
            " [0. 1. 0.]\n",
            " [0. 0. 1.]]\n"
          ]
        }
      ],
      "source": [
        "d2d = np.identity(3) # criando matrix identidade 3X3\n",
        "print('d2d=\\n',d2d)"
      ]
    },
    {
      "cell_type": "markdown",
      "metadata": {
        "id": "gh0tgdOwZrnj"
      },
      "source": [
        "# **Fatiando arrays (slicing)**\n",
        "\n",
        "A melhor forma de se percorrer um array é por meio de 'slicing', evitando o uso de laços for, que são computacionalmente muito menos eficientes.\n",
        "\n",
        "Array slicing funciona como em listas, mas em múltiplas dimensões\n",
        "Omitir um índice corresponde a recuperar toda a dimensão omitida\n",
        "Um slice é uma \"visão\" (VIEW) do array original (similar a uma referencia), isto é, o dado não é copiado"
      ]
    },
    {
      "cell_type": "code",
      "execution_count": null,
      "metadata": {
        "colab": {
          "base_uri": "https://localhost:8080/"
        },
        "id": "EhVhrrfIZxqs",
        "outputId": "e7807273-792a-4204-8b8a-5d347ae06c9b"
      },
      "outputs": [
        {
          "name": "stdout",
          "output_type": "stream",
          "text": [
            "[[ 1  3  5  7  9 11]\n",
            " [ 2  4  6  8 10 12]\n",
            " [ 0  1  2  3  4  5]]\n",
            "a2d[1,:] - Recupera a linha de indice 1 (equivalent to a2d[1])\n",
            " [ 2  4  6  8 10 12]\n",
            "a2d[:,2] - Recupera a coluna de indice 2\n",
            " [5 6 2]\n",
            "a2d[1:,2:5] - Recupera o bloco a partir da linha de indice 1 e colunas 2,3 e 4\n",
            " [[ 6  8 10]\n",
            " [ 2  3  4]]\n",
            "a2d[[0,2]] - Recupera as linhas 0 e 2\n",
            " [[ 1  3  5  7  9 11]\n",
            " [ 0  1  2  3  4  5]]\n",
            "a2d[:,[0,2,5]] - Recuperando as colunas 0,2 e 5 \n",
            " [[ 1  5 11]\n",
            " [ 2  6 12]\n",
            " [ 0  2  5]]\n",
            "a2d[[0,1,2],[0,2,5]] - Recuperando os elementos das posicoes 0,0 1,2 e 2,5 \n",
            " [1 6 5]\n"
          ]
        }
      ],
      "source": [
        "a2d = np.array([[1,3,5,7,9,11],     # criando um array bidimensional a partir de uma\n",
        "                  [2,4,6,8,10,12],  # lista de listas\n",
        "                  [0,1,2,3,4,5]])\n",
        "print(a2d)\n",
        "\n",
        "# slicing de colunas\n",
        "print('a2d[1,:] - Recupera a linha de indice 1 (equivalent to a2d[1])\\n',a2d[1,:])\n",
        "\n",
        "# slicing de linhas\n",
        "print('a2d[:,2] - Recupera a coluna de indice 2\\n',a2d[:,2])\n",
        "\n",
        "# slicing de blocos\n",
        "print('a2d[1:,2:5] - Recupera o bloco a partir da linha de indice 1 e colunas 2,3 e 4\\n',a2d[1:,2:5])\n",
        "\n",
        "print('a2d[[0,2]] - Recupera as linhas 0 e 2\\n',a2d[[0,2]]) \n",
        "                                                    # note que uma lista com o indice\n",
        "                                                    # das linhas é passada para o slicing\n",
        "\n",
        "print('a2d[:,[0,2,5]] - Recuperando as colunas 0,2 e 5 \\n',a2d[:,[0,2,5]]) \n",
        "                                                    # note que uma lista com o indice\n",
        "                                                    # das colunas é passada para o slicing\n",
        "\n",
        "print('a2d[[0,1,2],[0,2,5]] - Recuperando os elementos das posicoes 0,0 1,2 e 2,5 \\n',a2d[[0,1,2],[0,2,5]])\n",
        "# quando duas listas, uma com indices de linhas e outra com indices de colunas, são passadas\n",
        "# para o slicing, elementos dos pares de posicoes são recuperados. As duas listas devem\n",
        "# conter o mesmo número de elementos (indices)"
      ]
    },
    {
      "cell_type": "markdown",
      "metadata": {
        "id": "BsqLDLvQacor"
      },
      "source": [
        "# **Broadcasting**\n",
        "Para garantir eficiência computacional na realização de operações entre arrays o <font color='blue'>numpy</font> utiliza um mecanismo de extensão de arrays chamado \"broadcasting\". Com o uso de broadcasting:\n",
        "- as operações aritméticas com arrays (soma, subtração, multiplicação e divisão) são feitas elemento a elemento (*\"element-wise\"*)\n",
        "- o __broadcasting__ transforma os arrays envolvidos nas operações aritméticas de modo que tenham as mesmas dimensões, possibilitando assim que as operações possam ser realizada elemento a elemento"
      ]
    },
    {
      "cell_type": "markdown",
      "metadata": {
        "id": "9ytlEhbYcZZv"
      },
      "source": [
        "```python\n",
        "A = np.arange(25).reshape(5,5) # matriz 5x5\n",
        "s = 3                          # escalar\n",
        "B = s+A                        # matriz 5x5\n",
        "```\n",
        "$$\n",
        "B = s + A = \\left[\\begin{array}{ccccc}\n",
        "3 & 3 & 3 & 3 & 3\\\\\n",
        "3 & 3 & 3 & 3 & 3\\\\\n",
        "3 & 3 & 3 & 3 & 3\\\\\n",
        "3 & 3 & 3 & 3 & 3\\\\\n",
        "3 & 3 & 3 & 3 & 3\n",
        "\\end{array}\\right] + \n",
        "\\left[\\begin{array}{ccccc} \n",
        "0  & 1 & 2 & 3 & 4 \\\\\n",
        "5  & 6 & 7 & 8 & 9\\\\\n",
        "10 & 11 & 12 & 13 & 14\\\\\n",
        "15 & 16 & 17 & 18 & 19\\\\\n",
        "20 & 21 & 22 & 23 & 24\n",
        "\\end{array}\\right]\n",
        "$$"
      ]
    },
    {
      "cell_type": "code",
      "execution_count": null,
      "metadata": {
        "colab": {
          "base_uri": "https://localhost:8080/"
        },
        "id": "eTTlnioQlz3Z",
        "outputId": "c5ef677b-954b-4e9f-f39b-21fa54cac4c0"
      },
      "outputs": [
        {
          "name": "stdout",
          "output_type": "stream",
          "text": [
            "[[ 0  1  2  3  4]\n",
            " [ 5  6  7  8  9]\n",
            " [10 11 12 13 14]\n",
            " [15 16 17 18 19]\n",
            " [20 21 22 23 24]] \n",
            "\n",
            "[[ 3  4  5  6  7]\n",
            " [ 8  9 10 11 12]\n",
            " [13 14 15 16 17]\n",
            " [18 19 20 21 22]\n",
            " [23 24 25 26 27]]\n"
          ]
        }
      ],
      "source": [
        "import numpy as np\n",
        "\n",
        "# Cria uma matriz 5x5 com números aleatórios\n",
        "A = np.arange(25).reshape(5,5)\n",
        "\n",
        "# define um escalar\n",
        "s = 3\n",
        "\n",
        "# O opeador \"+\" é aplicado elemento por elemento (caso contrário não seria definido)\n",
        "B = s + A\n",
        "\n",
        "print(A,'\\n')\n",
        "print(B)"
      ]
    },
    {
      "cell_type": "markdown",
      "metadata": {
        "id": "XgMfmQwjmFRw"
      },
      "source": [
        "**# Broadcasting e operações entre arrays**\n",
        "Broadcasting tambem é aplicado quando operações aritméticas são aplicadas em pares de arrays, porém algumas restrições devem ser respeitadas:\n",
        "- Os dois arrays devem possuir dimensões compatíveis em algum(s) dos eixos\n",
        "- O broadcasting é aplicado nos demais eixos para que ambos os arrays tenham as mesmas dimensões\n",
        "```python\n",
        "A = np.arange(25).reshape(5,5) # matriz 5x5\n",
        "v = np.arange(5)               # array com 5 elementos\n",
        "B = v*A                        # matriz 5x5\n",
        "```\n",
        "$$\n",
        "B = v * A \n",
        "$$\n",
        "\n",
        "$$\n",
        "\\downarrow\n",
        "$$\n",
        "\n",
        "$$\n",
        "\\left[\\begin{array}{ccccc}\n",
        "0  & 1 & 2 & 3 & 4\n",
        "\\end{array}\\right] * \n",
        "\\left[\\begin{array}{ccccc} \n",
        "0  & 1 & 2 & 3 & 4 \\\\\n",
        "5  & 6 & 7 & 8 & 9\\\\\n",
        "10 & 11 & 12 & 13 & 14\\\\\n",
        "15 & 16 & 17 & 18 & 19\\\\\n",
        "20 & 21 & 22 & 23 & 24\n",
        "\\end{array}\\right] \n",
        "$$\n",
        "\n",
        "$$\n",
        "\\downarrow\n",
        "$$\n",
        "\n",
        "$$\n",
        "\\left[\\begin{array}{ccccc}\n",
        "0  & 1 & 2 & 3 & 4\\\\\n",
        "0  & 1 & 2 & 3 & 4\\\\\n",
        "0  & 1 & 2 & 3 & 4\\\\\n",
        "0  & 1 & 2 & 3 & 4\\\\\n",
        "0  & 1 & 2 & 3 & 4\n",
        "\\end{array}\\right] * \n",
        "\\left[\\begin{array}{ccccc} \n",
        "0  & 1 & 2 & 3 & 4 \\\\\n",
        "5  & 6 & 7 & 8 & 9\\\\\n",
        "10 & 11 & 12 & 13 & 14\\\\\n",
        "15 & 16 & 17 & 18 & 19\\\\\n",
        "20 & 21 & 22 & 23 & 24\n",
        "\\end{array}\\right]\n",
        "$$\n",
        "\n",
        "__Cuidado__: A operação <font color='blue'>*</font> corresponde a uma multiplicação elemento por elemento, e não uma multiplicação matricial."
      ]
    },
    {
      "cell_type": "code",
      "execution_count": null,
      "metadata": {
        "colab": {
          "base_uri": "https://localhost:8080/"
        },
        "id": "9XO-aGUwnoFm",
        "outputId": "a298a724-23fa-4498-e284-2aed4a960e97"
      },
      "outputs": [
        {
          "name": "stdout",
          "output_type": "stream",
          "text": [
            "Matriz \"A\" possui  5  linhas e  5  colunas\n",
            "Array \"v\" possui  5  elementos \n",
            "Note que a segunda dimensão de \"v\" não é especificada  (5,)\n",
            "---------------\n",
            "v = \n",
            " [0 1 2 3 4]\n",
            "A = \n",
            " [[ 0  1  2  3  4]\n",
            " [ 5  6  7  8  9]\n",
            " [10 11 12 13 14]\n",
            " [15 16 17 18 19]\n",
            " [20 21 22 23 24]]\n",
            "B = \n",
            " [[ 0  1  4  9 16]\n",
            " [ 0  6 14 24 36]\n",
            " [ 0 11 24 39 56]\n",
            " [ 0 16 34 54 76]\n",
            " [ 0 21 44 69 96]]\n"
          ]
        }
      ],
      "source": [
        "A = np.arange(25).reshape(5,5) # matriz 5x5\n",
        "print('Matriz \"A\" possui ', A.shape[0], ' linhas e ',A.shape[1],' colunas')\n",
        "\n",
        "\n",
        "v = np.arange(5)  # array com 5 elementos\n",
        "                  # como a segunda dimensão não foi especificada, \"v\" é interpretado \n",
        "                  # como um sendo 1x5 (uma linha e 5 colunas)\n",
        "        \n",
        "print('Array \"v\" possui ', v.shape[0], ' elementos ')\n",
        "print('Note que a segunda dimensão de \"v\" não é especificada ',v.shape)\n",
        "\n",
        "# A operação \"*\" é realizada elemento a elemento, broadcasting o array \"v\" para gerar novas linhas\n",
        "B = v * A\n",
        "\n",
        "print(5*'---')\n",
        "print('v = \\n',v)\n",
        "print('A = \\n',A)\n",
        "print('B = \\n',B)"
      ]
    },
    {
      "cell_type": "markdown",
      "metadata": {
        "id": "nLoRfTDBjSQk"
      },
      "source": [
        "# **Pandas**"
      ]
    },
    {
      "cell_type": "markdown",
      "metadata": {
        "id": "dlcAAbGuPgJI"
      },
      "source": [
        "__Conteúdo:__\n",
        "\n",
        "- Pandas \n",
        "  - Séries\n",
        "  - DataFrame\n",
        "\n",
        "  \n",
        "__Referencias:__\n",
        "\n",
        "[Introduction to Pandas](https://www.ritchieng.com/pandas-introduction/)"
      ]
    },
    {
      "cell_type": "markdown",
      "metadata": {
        "id": "Qw2Blj2MPoOS"
      },
      "source": [
        "<font color='blue'>Pandas</font> é um pacote python construído com base no <font color='blue'>numpy</font> e <font color='blue'>matplotlib</font> que busca organizar dados no formato de tabela, atribuindo rótulos às linhas e colunas. O pacote <font color='blue'>pandas</font> fornece ainda um conjunto de funcionalidades que premite processar as informações de tabelas de forma bastante eficiente, implementando métodos fundamentais para fins de tratamento de dados.\n",
        "\n",
        "O <font color='blue'>pandas</font> organiza os dados em três tipos de estruturas:\n",
        "- Series (Séries)\n",
        "- DataFrame\n",
        "- Panel (Paineis não serão abordados neste curso)"
      ]
    },
    {
      "cell_type": "markdown",
      "metadata": {
        "id": "u56lP8S0TUbz"
      },
      "source": [
        "### <font color='blue'>Series</font>\n",
        "A estrutura de representação tipo <font color='blue'>series</font> do <font color='blue'>pandas</font> é semelhante a um array unidimensional, porém os elementos podem ser indexados por números inteiros (como em um array do <font color='blue'>numpy</font>) ou por meio de rótulos (labels) que não precisam ser únicos e podem ser organizados de forma hierárquica.\n",
        "- Quando os índices ou rótulos não são informados explicitamente, <font color='blue'>pandas</font> cria uma indexação com números inteiros automaticamente, variando os índices de $0$ (zero) a $n-1$, onde $n$ é o número de elementos na série.\n",
        "- Os rótulos são usados para realizar buscas rápidas, alinhamento de dados e operações de junção de dados."
      ]
    },
    {
      "cell_type": "markdown",
      "metadata": {
        "id": "crPMo5TZUKWY"
      },
      "source": [
        "#### Criando séries com <font color='blue'>pandas</font>\n",
        "Séries pondem ser criadas no <font color='blue'>pandas</font> de diferentes formas, a partir de:\n",
        "- listas\n",
        "- arrays\n",
        "- dicionários\n",
        "- DataFrames"
      ]
    },
    {
      "cell_type": "code",
      "execution_count": null,
      "metadata": {
        "id": "Ey37oG_WVGM5"
      },
      "outputs": [],
      "source": [
        "import pandas as pd"
      ]
    },
    {
      "cell_type": "code",
      "execution_count": null,
      "metadata": {
        "colab": {
          "base_uri": "https://localhost:8080/"
        },
        "id": "SW5h_ZQFVJtq",
        "outputId": "1c25d74e-1a85-482c-e15e-0da731c6bdbd"
      },
      "outputs": [
        {
          "name": "stdout",
          "output_type": "stream",
          "text": [
            "0    a\n",
            "1    b\n",
            "2    c\n",
            "3    d\n",
            "4    e\n",
            "dtype: object\n"
          ]
        }
      ],
      "source": [
        "# Criando uma série a partir de uma lista. Neste caso os índices (ou rótulos) não são fornecidos,\n",
        "# então o pandas cria os índices automaticamente\n",
        "\n",
        "lst = ['a','b','c','d','e']\n",
        "series = pd.Series(lst)\n",
        "print(series)"
      ]
    },
    {
      "cell_type": "code",
      "execution_count": null,
      "metadata": {
        "colab": {
          "base_uri": "https://localhost:8080/"
        },
        "id": "GFp6RAfjVchg",
        "outputId": "ac62185a-36ed-4c24-9a0d-01d7ca61e216"
      },
      "outputs": [
        {
          "name": "stdout",
          "output_type": "stream",
          "text": [
            "A    50\n",
            "B    10\n",
            "C    80\n",
            "D    33\n",
            "dtype: int64\n"
          ]
        }
      ],
      "source": [
        "# Criando uma série a partir de um dicionário. As chaves do dicionário se tornam os rótulos e\n",
        "# os valores os elementos da série\n",
        "\n",
        "dct = {'A' : 50, 'B' : 10, 'C' : 80, 'D' : 33} \n",
        "series = pd.Series(dct)\n",
        "print(series)"
      ]
    },
    {
      "cell_type": "code",
      "execution_count": null,
      "metadata": {
        "colab": {
          "base_uri": "https://localhost:8080/",
          "height": 241
        },
        "id": "2NGBRSMmPEhi",
        "outputId": "1901c8b5-9d13-41a1-bfee-65990d6c191c"
      },
      "outputs": [
        {
          "name": "stdout",
          "output_type": "stream",
          "text": [
            "Rotulos das colunas\n",
            "['total_bill' 'tip' 'sex' 'smoker' 'day' 'time' 'size']\n"
          ]
        },
        {
          "data": {
            "text/html": [
              "\n",
              "  <div id=\"df-a8e400f6-c291-4270-b69d-2c5cb325305f\">\n",
              "    <div class=\"colab-df-container\">\n",
              "      <div>\n",
              "<style scoped>\n",
              "    .dataframe tbody tr th:only-of-type {\n",
              "        vertical-align: middle;\n",
              "    }\n",
              "\n",
              "    .dataframe tbody tr th {\n",
              "        vertical-align: top;\n",
              "    }\n",
              "\n",
              "    .dataframe thead th {\n",
              "        text-align: right;\n",
              "    }\n",
              "</style>\n",
              "<table border=\"1\" class=\"dataframe\">\n",
              "  <thead>\n",
              "    <tr style=\"text-align: right;\">\n",
              "      <th></th>\n",
              "      <th>total_bill</th>\n",
              "      <th>tip</th>\n",
              "      <th>sex</th>\n",
              "      <th>smoker</th>\n",
              "      <th>day</th>\n",
              "      <th>time</th>\n",
              "      <th>size</th>\n",
              "    </tr>\n",
              "  </thead>\n",
              "  <tbody>\n",
              "    <tr>\n",
              "      <th>0</th>\n",
              "      <td>16.99</td>\n",
              "      <td>1.01</td>\n",
              "      <td>Female</td>\n",
              "      <td>No</td>\n",
              "      <td>Sun</td>\n",
              "      <td>Dinner</td>\n",
              "      <td>2</td>\n",
              "    </tr>\n",
              "    <tr>\n",
              "      <th>1</th>\n",
              "      <td>10.34</td>\n",
              "      <td>1.66</td>\n",
              "      <td>Male</td>\n",
              "      <td>No</td>\n",
              "      <td>Sun</td>\n",
              "      <td>Dinner</td>\n",
              "      <td>3</td>\n",
              "    </tr>\n",
              "    <tr>\n",
              "      <th>2</th>\n",
              "      <td>21.01</td>\n",
              "      <td>3.50</td>\n",
              "      <td>Male</td>\n",
              "      <td>No</td>\n",
              "      <td>Sun</td>\n",
              "      <td>Dinner</td>\n",
              "      <td>3</td>\n",
              "    </tr>\n",
              "    <tr>\n",
              "      <th>3</th>\n",
              "      <td>23.68</td>\n",
              "      <td>3.31</td>\n",
              "      <td>Male</td>\n",
              "      <td>No</td>\n",
              "      <td>Sun</td>\n",
              "      <td>Dinner</td>\n",
              "      <td>2</td>\n",
              "    </tr>\n",
              "    <tr>\n",
              "      <th>4</th>\n",
              "      <td>24.59</td>\n",
              "      <td>3.61</td>\n",
              "      <td>Female</td>\n",
              "      <td>No</td>\n",
              "      <td>Sun</td>\n",
              "      <td>Dinner</td>\n",
              "      <td>4</td>\n",
              "    </tr>\n",
              "  </tbody>\n",
              "</table>\n",
              "</div>\n",
              "      <button class=\"colab-df-convert\" onclick=\"convertToInteractive('df-a8e400f6-c291-4270-b69d-2c5cb325305f')\"\n",
              "              title=\"Convert this dataframe to an interactive table.\"\n",
              "              style=\"display:none;\">\n",
              "        \n",
              "  <svg xmlns=\"http://www.w3.org/2000/svg\" height=\"24px\"viewBox=\"0 0 24 24\"\n",
              "       width=\"24px\">\n",
              "    <path d=\"M0 0h24v24H0V0z\" fill=\"none\"/>\n",
              "    <path d=\"M18.56 5.44l.94 2.06.94-2.06 2.06-.94-2.06-.94-.94-2.06-.94 2.06-2.06.94zm-11 1L8.5 8.5l.94-2.06 2.06-.94-2.06-.94L8.5 2.5l-.94 2.06-2.06.94zm10 10l.94 2.06.94-2.06 2.06-.94-2.06-.94-.94-2.06-.94 2.06-2.06.94z\"/><path d=\"M17.41 7.96l-1.37-1.37c-.4-.4-.92-.59-1.43-.59-.52 0-1.04.2-1.43.59L10.3 9.45l-7.72 7.72c-.78.78-.78 2.05 0 2.83L4 21.41c.39.39.9.59 1.41.59.51 0 1.02-.2 1.41-.59l7.78-7.78 2.81-2.81c.8-.78.8-2.07 0-2.86zM5.41 20L4 18.59l7.72-7.72 1.47 1.35L5.41 20z\"/>\n",
              "  </svg>\n",
              "      </button>\n",
              "      \n",
              "  <style>\n",
              "    .colab-df-container {\n",
              "      display:flex;\n",
              "      flex-wrap:wrap;\n",
              "      gap: 12px;\n",
              "    }\n",
              "\n",
              "    .colab-df-convert {\n",
              "      background-color: #E8F0FE;\n",
              "      border: none;\n",
              "      border-radius: 50%;\n",
              "      cursor: pointer;\n",
              "      display: none;\n",
              "      fill: #1967D2;\n",
              "      height: 32px;\n",
              "      padding: 0 0 0 0;\n",
              "      width: 32px;\n",
              "    }\n",
              "\n",
              "    .colab-df-convert:hover {\n",
              "      background-color: #E2EBFA;\n",
              "      box-shadow: 0px 1px 2px rgba(60, 64, 67, 0.3), 0px 1px 3px 1px rgba(60, 64, 67, 0.15);\n",
              "      fill: #174EA6;\n",
              "    }\n",
              "\n",
              "    [theme=dark] .colab-df-convert {\n",
              "      background-color: #3B4455;\n",
              "      fill: #D2E3FC;\n",
              "    }\n",
              "\n",
              "    [theme=dark] .colab-df-convert:hover {\n",
              "      background-color: #434B5C;\n",
              "      box-shadow: 0px 1px 3px 1px rgba(0, 0, 0, 0.15);\n",
              "      filter: drop-shadow(0px 1px 2px rgba(0, 0, 0, 0.3));\n",
              "      fill: #FFFFFF;\n",
              "    }\n",
              "  </style>\n",
              "\n",
              "      <script>\n",
              "        const buttonEl =\n",
              "          document.querySelector('#df-a8e400f6-c291-4270-b69d-2c5cb325305f button.colab-df-convert');\n",
              "        buttonEl.style.display =\n",
              "          google.colab.kernel.accessAllowed ? 'block' : 'none';\n",
              "\n",
              "        async function convertToInteractive(key) {\n",
              "          const element = document.querySelector('#df-a8e400f6-c291-4270-b69d-2c5cb325305f');\n",
              "          const dataTable =\n",
              "            await google.colab.kernel.invokeFunction('convertToInteractive',\n",
              "                                                     [key], {});\n",
              "          if (!dataTable) return;\n",
              "\n",
              "          const docLinkHtml = 'Like what you see? Visit the ' +\n",
              "            '<a target=\"_blank\" href=https://colab.research.google.com/notebooks/data_table.ipynb>data table notebook</a>'\n",
              "            + ' to learn more about interactive tables.';\n",
              "          element.innerHTML = '';\n",
              "          dataTable['output_type'] = 'display_data';\n",
              "          await google.colab.output.renderOutput(dataTable, element);\n",
              "          const docLink = document.createElement('div');\n",
              "          docLink.innerHTML = docLinkHtml;\n",
              "          element.appendChild(docLink);\n",
              "        }\n",
              "      </script>\n",
              "    </div>\n",
              "  </div>\n",
              "  "
            ],
            "text/plain": [
              "   total_bill   tip     sex smoker  day    time  size\n",
              "0       16.99  1.01  Female     No  Sun  Dinner     2\n",
              "1       10.34  1.66    Male     No  Sun  Dinner     3\n",
              "2       21.01  3.50    Male     No  Sun  Dinner     3\n",
              "3       23.68  3.31    Male     No  Sun  Dinner     2\n",
              "4       24.59  3.61  Female     No  Sun  Dinner     4"
            ]
          },
          "execution_count": 2,
          "metadata": {},
          "output_type": "execute_result"
        }
      ],
      "source": [
        "# Carregar um CSV simples\n",
        "import pandas as pd # importamos a bilbioteca\n",
        "\n",
        "df = pd.read_csv('https://raw.githubusercontent.com/Rogerio-mack/Visualizacao-de-Dados-em-Python/main/data/tips.csv')  # o método read_csv carrega um arquivo no formato '.csv'\n",
        "                                # a primeira linha do arquivo se torna os rótulos das colunas\n",
        "                                # como os indices não foram especificados, são criados automaticamente\n",
        "\n",
        "print('Rotulos das colunas')\n",
        "print(df.columns.values)    # imprime o nome dos rótulos das colunas\n",
        "df.head()"
      ]
    },
    {
      "cell_type": "markdown",
      "metadata": {
        "id": "rPZtmDg3RzFv"
      },
      "source": [
        "O comando df.head() permite exibir o aspecto inicial dos dados a partir de suas primeiras linhas."
      ]
    },
    {
      "cell_type": "markdown",
      "metadata": {
        "id": "xtVeis0mSQdX"
      },
      "source": [
        "# **Selecionando Dados**\n",
        "Seleções dos dados são bastante importantes. Você nem sempre estará interessado em exibir ou analisar todos os dados. Por exemplo, você pode ter dados de produção de várias unidades de uma fábrica, mas estar interessado somente em dados das unidades de São Paulo (seleção de linhas ou casos). Ou, você pode ter dados de vendas com diversas informações dos produtos (cor, modelo etc.) e dos clientes (nome, CPF etc.) e querer apenas dados de peso e dimensões do produto, e da origem e destino da compra para analisar os preços de frete (seleção de colunas ou atributos). Mais frequentemente ainda você vai realizar as duas seleções criando slices dos dados.\n"
      ]
    },
    {
      "cell_type": "markdown",
      "metadata": {
        "id": "8ZjGQPwPhVSe"
      },
      "source": [
        "# **Selecionando colunas de dados com o pd.Series**"
      ]
    },
    {
      "cell_type": "code",
      "execution_count": null,
      "metadata": {
        "colab": {
          "base_uri": "https://localhost:8080/"
        },
        "id": "k1FGk5HHhnkP",
        "outputId": "03766575-3cc5-4da3-c117-078667eaebfc"
      },
      "outputs": [
        {
          "name": "stdout",
          "output_type": "stream",
          "text": [
            "0      1.01\n",
            "1      1.66\n",
            "2      3.50\n",
            "3      3.31\n",
            "4      3.61\n",
            "       ... \n",
            "239    5.92\n",
            "240    2.00\n",
            "241    2.00\n",
            "242    1.75\n",
            "243    3.00\n",
            "Name: tip, Length: 244, dtype: float64\n"
          ]
        }
      ],
      "source": [
        "print(df.tip)\n",
        "# ou\n",
        "# print(df['tip'])"
      ]
    },
    {
      "cell_type": "markdown",
      "metadata": {
        "id": "JYXrD13rh5EW"
      },
      "source": [
        "# **Selecionando uma ou Mais Colunas com o pd.DataFrame**"
      ]
    },
    {
      "cell_type": "code",
      "execution_count": null,
      "metadata": {
        "colab": {
          "base_uri": "https://localhost:8080/"
        },
        "id": "sGs9hIInjHVl",
        "outputId": "358c64c3-3aa4-4b44-b7d2-95151e0d0b8c"
      },
      "outputs": [
        {
          "data": {
            "text/plain": [
              "Index(['total_bill', 'tip', 'sex', 'smoker', 'day', 'time', 'size'], dtype='object')"
            ]
          },
          "execution_count": 5,
          "metadata": {},
          "output_type": "execute_result"
        }
      ],
      "source": [
        "df.columns"
      ]
    },
    {
      "cell_type": "code",
      "execution_count": null,
      "metadata": {
        "colab": {
          "base_uri": "https://localhost:8080/",
          "height": 206
        },
        "id": "MDpslllKjNa3",
        "outputId": "5ae92ea5-7349-4f61-f98c-2e113dba05ce"
      },
      "outputs": [
        {
          "data": {
            "text/html": [
              "\n",
              "  <div id=\"df-f2a76799-8993-411d-b094-d75ce005f83a\">\n",
              "    <div class=\"colab-df-container\">\n",
              "      <div>\n",
              "<style scoped>\n",
              "    .dataframe tbody tr th:only-of-type {\n",
              "        vertical-align: middle;\n",
              "    }\n",
              "\n",
              "    .dataframe tbody tr th {\n",
              "        vertical-align: top;\n",
              "    }\n",
              "\n",
              "    .dataframe thead th {\n",
              "        text-align: right;\n",
              "    }\n",
              "</style>\n",
              "<table border=\"1\" class=\"dataframe\">\n",
              "  <thead>\n",
              "    <tr style=\"text-align: right;\">\n",
              "      <th></th>\n",
              "      <th>total_bill</th>\n",
              "      <th>tip</th>\n",
              "      <th>size</th>\n",
              "    </tr>\n",
              "  </thead>\n",
              "  <tbody>\n",
              "    <tr>\n",
              "      <th>0</th>\n",
              "      <td>16.99</td>\n",
              "      <td>1.01</td>\n",
              "      <td>2</td>\n",
              "    </tr>\n",
              "    <tr>\n",
              "      <th>1</th>\n",
              "      <td>10.34</td>\n",
              "      <td>1.66</td>\n",
              "      <td>3</td>\n",
              "    </tr>\n",
              "    <tr>\n",
              "      <th>2</th>\n",
              "      <td>21.01</td>\n",
              "      <td>3.50</td>\n",
              "      <td>3</td>\n",
              "    </tr>\n",
              "    <tr>\n",
              "      <th>3</th>\n",
              "      <td>23.68</td>\n",
              "      <td>3.31</td>\n",
              "      <td>2</td>\n",
              "    </tr>\n",
              "    <tr>\n",
              "      <th>4</th>\n",
              "      <td>24.59</td>\n",
              "      <td>3.61</td>\n",
              "      <td>4</td>\n",
              "    </tr>\n",
              "  </tbody>\n",
              "</table>\n",
              "</div>\n",
              "      <button class=\"colab-df-convert\" onclick=\"convertToInteractive('df-f2a76799-8993-411d-b094-d75ce005f83a')\"\n",
              "              title=\"Convert this dataframe to an interactive table.\"\n",
              "              style=\"display:none;\">\n",
              "        \n",
              "  <svg xmlns=\"http://www.w3.org/2000/svg\" height=\"24px\"viewBox=\"0 0 24 24\"\n",
              "       width=\"24px\">\n",
              "    <path d=\"M0 0h24v24H0V0z\" fill=\"none\"/>\n",
              "    <path d=\"M18.56 5.44l.94 2.06.94-2.06 2.06-.94-2.06-.94-.94-2.06-.94 2.06-2.06.94zm-11 1L8.5 8.5l.94-2.06 2.06-.94-2.06-.94L8.5 2.5l-.94 2.06-2.06.94zm10 10l.94 2.06.94-2.06 2.06-.94-2.06-.94-.94-2.06-.94 2.06-2.06.94z\"/><path d=\"M17.41 7.96l-1.37-1.37c-.4-.4-.92-.59-1.43-.59-.52 0-1.04.2-1.43.59L10.3 9.45l-7.72 7.72c-.78.78-.78 2.05 0 2.83L4 21.41c.39.39.9.59 1.41.59.51 0 1.02-.2 1.41-.59l7.78-7.78 2.81-2.81c.8-.78.8-2.07 0-2.86zM5.41 20L4 18.59l7.72-7.72 1.47 1.35L5.41 20z\"/>\n",
              "  </svg>\n",
              "      </button>\n",
              "      \n",
              "  <style>\n",
              "    .colab-df-container {\n",
              "      display:flex;\n",
              "      flex-wrap:wrap;\n",
              "      gap: 12px;\n",
              "    }\n",
              "\n",
              "    .colab-df-convert {\n",
              "      background-color: #E8F0FE;\n",
              "      border: none;\n",
              "      border-radius: 50%;\n",
              "      cursor: pointer;\n",
              "      display: none;\n",
              "      fill: #1967D2;\n",
              "      height: 32px;\n",
              "      padding: 0 0 0 0;\n",
              "      width: 32px;\n",
              "    }\n",
              "\n",
              "    .colab-df-convert:hover {\n",
              "      background-color: #E2EBFA;\n",
              "      box-shadow: 0px 1px 2px rgba(60, 64, 67, 0.3), 0px 1px 3px 1px rgba(60, 64, 67, 0.15);\n",
              "      fill: #174EA6;\n",
              "    }\n",
              "\n",
              "    [theme=dark] .colab-df-convert {\n",
              "      background-color: #3B4455;\n",
              "      fill: #D2E3FC;\n",
              "    }\n",
              "\n",
              "    [theme=dark] .colab-df-convert:hover {\n",
              "      background-color: #434B5C;\n",
              "      box-shadow: 0px 1px 3px 1px rgba(0, 0, 0, 0.15);\n",
              "      filter: drop-shadow(0px 1px 2px rgba(0, 0, 0, 0.3));\n",
              "      fill: #FFFFFF;\n",
              "    }\n",
              "  </style>\n",
              "\n",
              "      <script>\n",
              "        const buttonEl =\n",
              "          document.querySelector('#df-f2a76799-8993-411d-b094-d75ce005f83a button.colab-df-convert');\n",
              "        buttonEl.style.display =\n",
              "          google.colab.kernel.accessAllowed ? 'block' : 'none';\n",
              "\n",
              "        async function convertToInteractive(key) {\n",
              "          const element = document.querySelector('#df-f2a76799-8993-411d-b094-d75ce005f83a');\n",
              "          const dataTable =\n",
              "            await google.colab.kernel.invokeFunction('convertToInteractive',\n",
              "                                                     [key], {});\n",
              "          if (!dataTable) return;\n",
              "\n",
              "          const docLinkHtml = 'Like what you see? Visit the ' +\n",
              "            '<a target=\"_blank\" href=https://colab.research.google.com/notebooks/data_table.ipynb>data table notebook</a>'\n",
              "            + ' to learn more about interactive tables.';\n",
              "          element.innerHTML = '';\n",
              "          dataTable['output_type'] = 'display_data';\n",
              "          await google.colab.output.renderOutput(dataTable, element);\n",
              "          const docLink = document.createElement('div');\n",
              "          docLink.innerHTML = docLinkHtml;\n",
              "          element.appendChild(docLink);\n",
              "        }\n",
              "      </script>\n",
              "    </div>\n",
              "  </div>\n",
              "  "
            ],
            "text/plain": [
              "   total_bill   tip  size\n",
              "0       16.99  1.01     2\n",
              "1       10.34  1.66     3\n",
              "2       21.01  3.50     3\n",
              "3       23.68  3.31     2\n",
              "4       24.59  3.61     4"
            ]
          },
          "execution_count": 7,
          "metadata": {},
          "output_type": "execute_result"
        }
      ],
      "source": [
        "selected_df = df[['total_bill', 'tip', 'size']]\n",
        "\n",
        "selected_df.head() # um novo dataframe com atributos selecionados"
      ]
    },
    {
      "cell_type": "markdown",
      "metadata": {
        "id": "ULzom8APjbI1"
      },
      "source": [
        "# **Selecionar Linhas**"
      ]
    },
    {
      "cell_type": "code",
      "execution_count": null,
      "metadata": {
        "colab": {
          "base_uri": "https://localhost:8080/",
          "height": 206
        },
        "id": "A-c71pm6kZz9",
        "outputId": "feaf9977-6270-449e-dede-323ce8f69806"
      },
      "outputs": [
        {
          "data": {
            "text/html": [
              "\n",
              "  <div id=\"df-07ff13d9-7973-4fae-b4c1-62ea8f23b032\">\n",
              "    <div class=\"colab-df-container\">\n",
              "      <div>\n",
              "<style scoped>\n",
              "    .dataframe tbody tr th:only-of-type {\n",
              "        vertical-align: middle;\n",
              "    }\n",
              "\n",
              "    .dataframe tbody tr th {\n",
              "        vertical-align: top;\n",
              "    }\n",
              "\n",
              "    .dataframe thead th {\n",
              "        text-align: right;\n",
              "    }\n",
              "</style>\n",
              "<table border=\"1\" class=\"dataframe\">\n",
              "  <thead>\n",
              "    <tr style=\"text-align: right;\">\n",
              "      <th></th>\n",
              "      <th>total_bill</th>\n",
              "      <th>tip</th>\n",
              "      <th>sex</th>\n",
              "      <th>smoker</th>\n",
              "      <th>day</th>\n",
              "      <th>time</th>\n",
              "      <th>size</th>\n",
              "    </tr>\n",
              "  </thead>\n",
              "  <tbody>\n",
              "    <tr>\n",
              "      <th>0</th>\n",
              "      <td>16.99</td>\n",
              "      <td>1.01</td>\n",
              "      <td>Female</td>\n",
              "      <td>No</td>\n",
              "      <td>Sun</td>\n",
              "      <td>Dinner</td>\n",
              "      <td>2</td>\n",
              "    </tr>\n",
              "    <tr>\n",
              "      <th>1</th>\n",
              "      <td>10.34</td>\n",
              "      <td>1.66</td>\n",
              "      <td>Male</td>\n",
              "      <td>No</td>\n",
              "      <td>Sun</td>\n",
              "      <td>Dinner</td>\n",
              "      <td>3</td>\n",
              "    </tr>\n",
              "    <tr>\n",
              "      <th>2</th>\n",
              "      <td>21.01</td>\n",
              "      <td>3.50</td>\n",
              "      <td>Male</td>\n",
              "      <td>No</td>\n",
              "      <td>Sun</td>\n",
              "      <td>Dinner</td>\n",
              "      <td>3</td>\n",
              "    </tr>\n",
              "    <tr>\n",
              "      <th>3</th>\n",
              "      <td>23.68</td>\n",
              "      <td>3.31</td>\n",
              "      <td>Male</td>\n",
              "      <td>No</td>\n",
              "      <td>Sun</td>\n",
              "      <td>Dinner</td>\n",
              "      <td>2</td>\n",
              "    </tr>\n",
              "    <tr>\n",
              "      <th>4</th>\n",
              "      <td>24.59</td>\n",
              "      <td>3.61</td>\n",
              "      <td>Female</td>\n",
              "      <td>No</td>\n",
              "      <td>Sun</td>\n",
              "      <td>Dinner</td>\n",
              "      <td>4</td>\n",
              "    </tr>\n",
              "  </tbody>\n",
              "</table>\n",
              "</div>\n",
              "      <button class=\"colab-df-convert\" onclick=\"convertToInteractive('df-07ff13d9-7973-4fae-b4c1-62ea8f23b032')\"\n",
              "              title=\"Convert this dataframe to an interactive table.\"\n",
              "              style=\"display:none;\">\n",
              "        \n",
              "  <svg xmlns=\"http://www.w3.org/2000/svg\" height=\"24px\"viewBox=\"0 0 24 24\"\n",
              "       width=\"24px\">\n",
              "    <path d=\"M0 0h24v24H0V0z\" fill=\"none\"/>\n",
              "    <path d=\"M18.56 5.44l.94 2.06.94-2.06 2.06-.94-2.06-.94-.94-2.06-.94 2.06-2.06.94zm-11 1L8.5 8.5l.94-2.06 2.06-.94-2.06-.94L8.5 2.5l-.94 2.06-2.06.94zm10 10l.94 2.06.94-2.06 2.06-.94-2.06-.94-.94-2.06-.94 2.06-2.06.94z\"/><path d=\"M17.41 7.96l-1.37-1.37c-.4-.4-.92-.59-1.43-.59-.52 0-1.04.2-1.43.59L10.3 9.45l-7.72 7.72c-.78.78-.78 2.05 0 2.83L4 21.41c.39.39.9.59 1.41.59.51 0 1.02-.2 1.41-.59l7.78-7.78 2.81-2.81c.8-.78.8-2.07 0-2.86zM5.41 20L4 18.59l7.72-7.72 1.47 1.35L5.41 20z\"/>\n",
              "  </svg>\n",
              "      </button>\n",
              "      \n",
              "  <style>\n",
              "    .colab-df-container {\n",
              "      display:flex;\n",
              "      flex-wrap:wrap;\n",
              "      gap: 12px;\n",
              "    }\n",
              "\n",
              "    .colab-df-convert {\n",
              "      background-color: #E8F0FE;\n",
              "      border: none;\n",
              "      border-radius: 50%;\n",
              "      cursor: pointer;\n",
              "      display: none;\n",
              "      fill: #1967D2;\n",
              "      height: 32px;\n",
              "      padding: 0 0 0 0;\n",
              "      width: 32px;\n",
              "    }\n",
              "\n",
              "    .colab-df-convert:hover {\n",
              "      background-color: #E2EBFA;\n",
              "      box-shadow: 0px 1px 2px rgba(60, 64, 67, 0.3), 0px 1px 3px 1px rgba(60, 64, 67, 0.15);\n",
              "      fill: #174EA6;\n",
              "    }\n",
              "\n",
              "    [theme=dark] .colab-df-convert {\n",
              "      background-color: #3B4455;\n",
              "      fill: #D2E3FC;\n",
              "    }\n",
              "\n",
              "    [theme=dark] .colab-df-convert:hover {\n",
              "      background-color: #434B5C;\n",
              "      box-shadow: 0px 1px 3px 1px rgba(0, 0, 0, 0.15);\n",
              "      filter: drop-shadow(0px 1px 2px rgba(0, 0, 0, 0.3));\n",
              "      fill: #FFFFFF;\n",
              "    }\n",
              "  </style>\n",
              "\n",
              "      <script>\n",
              "        const buttonEl =\n",
              "          document.querySelector('#df-07ff13d9-7973-4fae-b4c1-62ea8f23b032 button.colab-df-convert');\n",
              "        buttonEl.style.display =\n",
              "          google.colab.kernel.accessAllowed ? 'block' : 'none';\n",
              "\n",
              "        async function convertToInteractive(key) {\n",
              "          const element = document.querySelector('#df-07ff13d9-7973-4fae-b4c1-62ea8f23b032');\n",
              "          const dataTable =\n",
              "            await google.colab.kernel.invokeFunction('convertToInteractive',\n",
              "                                                     [key], {});\n",
              "          if (!dataTable) return;\n",
              "\n",
              "          const docLinkHtml = 'Like what you see? Visit the ' +\n",
              "            '<a target=\"_blank\" href=https://colab.research.google.com/notebooks/data_table.ipynb>data table notebook</a>'\n",
              "            + ' to learn more about interactive tables.';\n",
              "          element.innerHTML = '';\n",
              "          dataTable['output_type'] = 'display_data';\n",
              "          await google.colab.output.renderOutput(dataTable, element);\n",
              "          const docLink = document.createElement('div');\n",
              "          docLink.innerHTML = docLinkHtml;\n",
              "          element.appendChild(docLink);\n",
              "        }\n",
              "      </script>\n",
              "    </div>\n",
              "  </div>\n",
              "  "
            ],
            "text/plain": [
              "   total_bill   tip     sex smoker  day    time  size\n",
              "0       16.99  1.01  Female     No  Sun  Dinner     2\n",
              "1       10.34  1.66    Male     No  Sun  Dinner     3\n",
              "2       21.01  3.50    Male     No  Sun  Dinner     3\n",
              "3       23.68  3.31    Male     No  Sun  Dinner     2\n",
              "4       24.59  3.61  Female     No  Sun  Dinner     4"
            ]
          },
          "execution_count": 10,
          "metadata": {},
          "output_type": "execute_result"
        }
      ],
      "source": [
        "df_nao_fumantes = df[ df.smoker == 'No' ]\n",
        "df_fumantes = df[ df.smoker == 'Yes' ]\n",
        "df_nao_fumantes.head()"
      ]
    },
    {
      "cell_type": "code",
      "execution_count": null,
      "metadata": {
        "colab": {
          "base_uri": "https://localhost:8080/",
          "height": 206
        },
        "id": "ftBKYqFBjVws",
        "outputId": "d909866f-33a5-4693-9a00-56fc77a383c8"
      },
      "outputs": [
        {
          "data": {
            "text/html": [
              "\n",
              "  <div id=\"df-8ea7fbf7-764e-4ad3-8baa-2519cd7907df\">\n",
              "    <div class=\"colab-df-container\">\n",
              "      <div>\n",
              "<style scoped>\n",
              "    .dataframe tbody tr th:only-of-type {\n",
              "        vertical-align: middle;\n",
              "    }\n",
              "\n",
              "    .dataframe tbody tr th {\n",
              "        vertical-align: top;\n",
              "    }\n",
              "\n",
              "    .dataframe thead th {\n",
              "        text-align: right;\n",
              "    }\n",
              "</style>\n",
              "<table border=\"1\" class=\"dataframe\">\n",
              "  <thead>\n",
              "    <tr style=\"text-align: right;\">\n",
              "      <th></th>\n",
              "      <th>total_bill</th>\n",
              "      <th>tip</th>\n",
              "      <th>sex</th>\n",
              "      <th>smoker</th>\n",
              "      <th>day</th>\n",
              "      <th>time</th>\n",
              "      <th>size</th>\n",
              "    </tr>\n",
              "  </thead>\n",
              "  <tbody>\n",
              "    <tr>\n",
              "      <th>56</th>\n",
              "      <td>38.01</td>\n",
              "      <td>3.00</td>\n",
              "      <td>Male</td>\n",
              "      <td>Yes</td>\n",
              "      <td>Sat</td>\n",
              "      <td>Dinner</td>\n",
              "      <td>4</td>\n",
              "    </tr>\n",
              "    <tr>\n",
              "      <th>58</th>\n",
              "      <td>11.24</td>\n",
              "      <td>1.76</td>\n",
              "      <td>Male</td>\n",
              "      <td>Yes</td>\n",
              "      <td>Sat</td>\n",
              "      <td>Dinner</td>\n",
              "      <td>2</td>\n",
              "    </tr>\n",
              "    <tr>\n",
              "      <th>60</th>\n",
              "      <td>20.29</td>\n",
              "      <td>3.21</td>\n",
              "      <td>Male</td>\n",
              "      <td>Yes</td>\n",
              "      <td>Sat</td>\n",
              "      <td>Dinner</td>\n",
              "      <td>2</td>\n",
              "    </tr>\n",
              "    <tr>\n",
              "      <th>61</th>\n",
              "      <td>13.81</td>\n",
              "      <td>2.00</td>\n",
              "      <td>Male</td>\n",
              "      <td>Yes</td>\n",
              "      <td>Sat</td>\n",
              "      <td>Dinner</td>\n",
              "      <td>2</td>\n",
              "    </tr>\n",
              "    <tr>\n",
              "      <th>62</th>\n",
              "      <td>11.02</td>\n",
              "      <td>1.98</td>\n",
              "      <td>Male</td>\n",
              "      <td>Yes</td>\n",
              "      <td>Sat</td>\n",
              "      <td>Dinner</td>\n",
              "      <td>2</td>\n",
              "    </tr>\n",
              "  </tbody>\n",
              "</table>\n",
              "</div>\n",
              "      <button class=\"colab-df-convert\" onclick=\"convertToInteractive('df-8ea7fbf7-764e-4ad3-8baa-2519cd7907df')\"\n",
              "              title=\"Convert this dataframe to an interactive table.\"\n",
              "              style=\"display:none;\">\n",
              "        \n",
              "  <svg xmlns=\"http://www.w3.org/2000/svg\" height=\"24px\"viewBox=\"0 0 24 24\"\n",
              "       width=\"24px\">\n",
              "    <path d=\"M0 0h24v24H0V0z\" fill=\"none\"/>\n",
              "    <path d=\"M18.56 5.44l.94 2.06.94-2.06 2.06-.94-2.06-.94-.94-2.06-.94 2.06-2.06.94zm-11 1L8.5 8.5l.94-2.06 2.06-.94-2.06-.94L8.5 2.5l-.94 2.06-2.06.94zm10 10l.94 2.06.94-2.06 2.06-.94-2.06-.94-.94-2.06-.94 2.06-2.06.94z\"/><path d=\"M17.41 7.96l-1.37-1.37c-.4-.4-.92-.59-1.43-.59-.52 0-1.04.2-1.43.59L10.3 9.45l-7.72 7.72c-.78.78-.78 2.05 0 2.83L4 21.41c.39.39.9.59 1.41.59.51 0 1.02-.2 1.41-.59l7.78-7.78 2.81-2.81c.8-.78.8-2.07 0-2.86zM5.41 20L4 18.59l7.72-7.72 1.47 1.35L5.41 20z\"/>\n",
              "  </svg>\n",
              "      </button>\n",
              "      \n",
              "  <style>\n",
              "    .colab-df-container {\n",
              "      display:flex;\n",
              "      flex-wrap:wrap;\n",
              "      gap: 12px;\n",
              "    }\n",
              "\n",
              "    .colab-df-convert {\n",
              "      background-color: #E8F0FE;\n",
              "      border: none;\n",
              "      border-radius: 50%;\n",
              "      cursor: pointer;\n",
              "      display: none;\n",
              "      fill: #1967D2;\n",
              "      height: 32px;\n",
              "      padding: 0 0 0 0;\n",
              "      width: 32px;\n",
              "    }\n",
              "\n",
              "    .colab-df-convert:hover {\n",
              "      background-color: #E2EBFA;\n",
              "      box-shadow: 0px 1px 2px rgba(60, 64, 67, 0.3), 0px 1px 3px 1px rgba(60, 64, 67, 0.15);\n",
              "      fill: #174EA6;\n",
              "    }\n",
              "\n",
              "    [theme=dark] .colab-df-convert {\n",
              "      background-color: #3B4455;\n",
              "      fill: #D2E3FC;\n",
              "    }\n",
              "\n",
              "    [theme=dark] .colab-df-convert:hover {\n",
              "      background-color: #434B5C;\n",
              "      box-shadow: 0px 1px 3px 1px rgba(0, 0, 0, 0.15);\n",
              "      filter: drop-shadow(0px 1px 2px rgba(0, 0, 0, 0.3));\n",
              "      fill: #FFFFFF;\n",
              "    }\n",
              "  </style>\n",
              "\n",
              "      <script>\n",
              "        const buttonEl =\n",
              "          document.querySelector('#df-8ea7fbf7-764e-4ad3-8baa-2519cd7907df button.colab-df-convert');\n",
              "        buttonEl.style.display =\n",
              "          google.colab.kernel.accessAllowed ? 'block' : 'none';\n",
              "\n",
              "        async function convertToInteractive(key) {\n",
              "          const element = document.querySelector('#df-8ea7fbf7-764e-4ad3-8baa-2519cd7907df');\n",
              "          const dataTable =\n",
              "            await google.colab.kernel.invokeFunction('convertToInteractive',\n",
              "                                                     [key], {});\n",
              "          if (!dataTable) return;\n",
              "\n",
              "          const docLinkHtml = 'Like what you see? Visit the ' +\n",
              "            '<a target=\"_blank\" href=https://colab.research.google.com/notebooks/data_table.ipynb>data table notebook</a>'\n",
              "            + ' to learn more about interactive tables.';\n",
              "          element.innerHTML = '';\n",
              "          dataTable['output_type'] = 'display_data';\n",
              "          await google.colab.output.renderOutput(dataTable, element);\n",
              "          const docLink = document.createElement('div');\n",
              "          docLink.innerHTML = docLinkHtml;\n",
              "          element.appendChild(docLink);\n",
              "        }\n",
              "      </script>\n",
              "    </div>\n",
              "  </div>\n",
              "  "
            ],
            "text/plain": [
              "    total_bill   tip   sex smoker  day    time  size\n",
              "56       38.01  3.00  Male    Yes  Sat  Dinner     4\n",
              "58       11.24  1.76  Male    Yes  Sat  Dinner     2\n",
              "60       20.29  3.21  Male    Yes  Sat  Dinner     2\n",
              "61       13.81  2.00  Male    Yes  Sat  Dinner     2\n",
              "62       11.02  1.98  Male    Yes  Sat  Dinner     2"
            ]
          },
          "execution_count": 11,
          "metadata": {},
          "output_type": "execute_result"
        }
      ],
      "source": [
        "df_fumantes.head()\n"
      ]
    },
    {
      "cell_type": "markdown",
      "metadata": {
        "id": "dr8u4cMsmMMR"
      },
      "source": [
        "# **Seleção de Linhas e Colunas**"
      ]
    },
    {
      "cell_type": "markdown",
      "metadata": {
        "id": "cYASqGEgmRqQ"
      },
      "source": [
        "O uso mais geral das seleções é quando fazemos seleções de linhas e colunas dos dados, e às vezes nos referimos a esse subconjunto dos dados de slice (fatia) dos dados."
      ]
    },
    {
      "cell_type": "code",
      "execution_count": null,
      "metadata": {
        "colab": {
          "base_uri": "https://localhost:8080/"
        },
        "id": "FMNFs6mJmTFk",
        "outputId": "33facdb9-1efa-43c8-acc9-662604a72bb3"
      },
      "outputs": [
        {
          "data": {
            "text/plain": [
              "True"
            ]
          },
          "execution_count": 12,
          "metadata": {},
          "output_type": "execute_result"
        }
      ],
      "source": [
        "df[ df.smoker == 'Yes' ]['tip'].mean() > df[ df.smoker == 'No' ]['tip'].mean() "
      ]
    },
    {
      "cell_type": "markdown",
      "metadata": {
        "id": "xfy0hL9hoRDc"
      },
      "source": [
        "# **Exercícios:**"
      ]
    },
    {
      "cell_type": "markdown",
      "metadata": {
        "id": "xEQZeKBToUcJ"
      },
      "source": [
        "1) Crie um array de 10 elementos. Altere o valores de todos os elementos com índices 5 até 8 para 0."
      ]
    },
    {
      "cell_type": "code",
      "execution_count": 22,
      "metadata": {
        "id": "q_CRvgOuoaSt"
      },
      "outputs": [
        {
          "name": "stdout",
          "output_type": "stream",
          "text": [
            "[0 1 2 3 4 0 0 0 0 9]\n"
          ]
        }
      ],
      "source": [
        "import numpy as np\n",
        "lst = np.arange(10)\n",
        "a1d = np.array(lst)\n",
        "lst[5:9]=0 #perceba que colocamos até o 9 para ele pegar até o 8\n",
        "print(lst)"
      ]
    },
    {
      "cell_type": "markdown",
      "metadata": {
        "id": "pJ5zb9yOom-i"
      },
      "source": [
        "2) Crie um array com 3 linhas e 2 colunas. Depois imprima o shape e a 2ª linha da matriz."
      ]
    },
    {
      "cell_type": "code",
      "execution_count": 30,
      "metadata": {
        "id": "DkgDf9ktouw2"
      },
      "outputs": [
        {
          "name": "stdout",
          "output_type": "stream",
          "text": [
            "a2d=\n",
            " [[1 3]\n",
            " [2 4]\n",
            " [4 2]]\n",
            "[2 4]\n"
          ]
        }
      ],
      "source": [
        "import numpy as np\n",
        "a2d = np.array([[1,3],\n",
        "                  [2,4], [4,2]])\n",
        "print('a2d=\\n',a2d)\n",
        "print(a2d[1])"
      ]
    },
    {
      "cell_type": "markdown",
      "metadata": {
        "id": "zvuYzeytr1g1"
      },
      "source": [
        "3) Ler e exibir  o arquivo insect.csv"
      ]
    },
    {
      "cell_type": "code",
      "execution_count": 13,
      "metadata": {
        "id": "ufthvTuUsD5u"
      },
      "outputs": [
        {
          "name": "stdout",
          "output_type": "stream",
          "text": [
            "    count spray\n",
            "0      10     A\n",
            "1       7     A\n",
            "2      20     A\n",
            "3      14     A\n",
            "4      14     A\n",
            "..    ...   ...\n",
            "67     10     F\n",
            "68     26     F\n",
            "69     26     F\n",
            "70     24     F\n",
            "71     13     F\n",
            "\n",
            "[72 rows x 2 columns]\n"
          ]
        }
      ],
      "source": [
        "import pandas as pd \n",
        "\n",
        "df = pd.read_csv('c://Users/unifgscopel/Documents/insect.csv')\n",
        "\n",
        "print(df)"
      ]
    },
    {
      "cell_type": "markdown",
      "metadata": {
        "id": "4nRfZGrysVVt"
      },
      "source": [
        "4) Exibir somente os elementos do arquivo insect com spray E"
      ]
    },
    {
      "cell_type": "code",
      "execution_count": 31,
      "metadata": {
        "id": "eLxg5Cq6s0lH"
      },
      "outputs": [
        {
          "name": "stdout",
          "output_type": "stream",
          "text": [
            "    count spray\n",
            "48      3     E\n",
            "49      5     E\n",
            "50      3     E\n",
            "51      5     E\n",
            "52      3     E\n",
            "53      6     E\n",
            "54      1     E\n",
            "55      1     E\n",
            "56      3     E\n",
            "57      2     E\n",
            "58      6     E\n",
            "59      4     E\n"
          ]
        }
      ],
      "source": [
        "import pandas as pd \n",
        "\n",
        "df = pd.read_csv('c://Users/unifgscopel/Documents/insect.csv')\n",
        "df_spraF = df[df.spray == \"E\"]\n",
        "print(df_spraF)\n"
      ]
    },
    {
      "cell_type": "code",
      "execution_count": null,
      "metadata": {},
      "outputs": [],
      "source": [
        "#5. Dada a matriz A = [[-2,4,7,8],[3,5,6,9],[1,0,-2,4]] calcular a inversa"
      ]
    },
    {
      "cell_type": "code",
      "execution_count": 2,
      "metadata": {},
      "outputs": [
        {
          "ename": "LinAlgError",
          "evalue": "Last 2 dimensions of the array must be square",
          "output_type": "error",
          "traceback": [
            "\u001b[1;31m---------------------------------------------------------------------------\u001b[0m",
            "\u001b[1;31mLinAlgError\u001b[0m                               Traceback (most recent call last)",
            "Cell \u001b[1;32mIn[2], line 4\u001b[0m\n\u001b[0;32m      2\u001b[0m \u001b[39mfrom\u001b[39;00m \u001b[39mmath\u001b[39;00m \u001b[39mimport\u001b[39;00m \u001b[39m*\u001b[39m\n\u001b[0;32m      3\u001b[0m matriz \u001b[39m=\u001b[39mnp\u001b[39m.\u001b[39marray([[\u001b[39m-\u001b[39m\u001b[39m2\u001b[39m,\u001b[39m4\u001b[39m,\u001b[39m7\u001b[39m,\u001b[39m8\u001b[39m],[\u001b[39m3\u001b[39m,\u001b[39m5\u001b[39m,\u001b[39m6\u001b[39m,\u001b[39m9\u001b[39m],[\u001b[39m1\u001b[39m,\u001b[39m0\u001b[39m,\u001b[39m-\u001b[39m\u001b[39m2\u001b[39m,\u001b[39m4\u001b[39m]])\n\u001b[1;32m----> 4\u001b[0m inv \u001b[39m=\u001b[39m np\u001b[39m.\u001b[39;49mlinalg\u001b[39m.\u001b[39;49minv( matriz )\n\u001b[0;32m      5\u001b[0m \u001b[39mprint\u001b[39m(np\u001b[39m.\u001b[39mround(inv,\u001b[39m2\u001b[39m))\n\u001b[0;32m      7\u001b[0m \u001b[39m#Deve dar erro já que a matriz não é quadrada, então não podemos calcular a inversa\u001b[39;00m\n",
            "File \u001b[1;32m<__array_function__ internals>:200\u001b[0m, in \u001b[0;36minv\u001b[1;34m(*args, **kwargs)\u001b[0m\n",
            "File \u001b[1;32m~\\AppData\\Local\\Packages\\PythonSoftwareFoundation.Python.3.10_qbz5n2kfra8p0\\LocalCache\\local-packages\\Python310\\site-packages\\numpy\\linalg\\linalg.py:533\u001b[0m, in \u001b[0;36minv\u001b[1;34m(a)\u001b[0m\n\u001b[0;32m    531\u001b[0m a, wrap \u001b[39m=\u001b[39m _makearray(a)\n\u001b[0;32m    532\u001b[0m _assert_stacked_2d(a)\n\u001b[1;32m--> 533\u001b[0m _assert_stacked_square(a)\n\u001b[0;32m    534\u001b[0m t, result_t \u001b[39m=\u001b[39m _commonType(a)\n\u001b[0;32m    536\u001b[0m signature \u001b[39m=\u001b[39m \u001b[39m'\u001b[39m\u001b[39mD->D\u001b[39m\u001b[39m'\u001b[39m \u001b[39mif\u001b[39;00m isComplexType(t) \u001b[39melse\u001b[39;00m \u001b[39m'\u001b[39m\u001b[39md->d\u001b[39m\u001b[39m'\u001b[39m\n",
            "File \u001b[1;32m~\\AppData\\Local\\Packages\\PythonSoftwareFoundation.Python.3.10_qbz5n2kfra8p0\\LocalCache\\local-packages\\Python310\\site-packages\\numpy\\linalg\\linalg.py:190\u001b[0m, in \u001b[0;36m_assert_stacked_square\u001b[1;34m(*arrays)\u001b[0m\n\u001b[0;32m    188\u001b[0m m, n \u001b[39m=\u001b[39m a\u001b[39m.\u001b[39mshape[\u001b[39m-\u001b[39m\u001b[39m2\u001b[39m:]\n\u001b[0;32m    189\u001b[0m \u001b[39mif\u001b[39;00m m \u001b[39m!=\u001b[39m n:\n\u001b[1;32m--> 190\u001b[0m     \u001b[39mraise\u001b[39;00m LinAlgError(\u001b[39m'\u001b[39m\u001b[39mLast 2 dimensions of the array must be square\u001b[39m\u001b[39m'\u001b[39m)\n",
            "\u001b[1;31mLinAlgError\u001b[0m: Last 2 dimensions of the array must be square"
          ]
        }
      ],
      "source": [
        "import numpy as np\n",
        "from math import *\n",
        "matriz =np.array([[-2,4,7,8],[3,5,6,9],[1,0,-2,4]])\n",
        "inv = np.linalg.inv( matriz )\n",
        "print(np.round(inv,2))\n",
        "\n",
        "#Deve dar erro já que a matriz não é quadrada, então não podemos calcular a inversa"
      ]
    },
    {
      "cell_type": "code",
      "execution_count": null,
      "metadata": {},
      "outputs": [],
      "source": [
        "#6)dada a matriz b=[[1,3,3],[-8,10,9],[1,3,4]] calcule o determinante\n",
        "#e a inversa"
      ]
    },
    {
      "cell_type": "code",
      "execution_count": 28,
      "metadata": {},
      "outputs": [
        {
          "name": "stdout",
          "output_type": "stream",
          "text": [
            "34.00\n",
            "[[ 0.38 -0.09 -0.09]\n",
            " [ 1.21  0.03 -0.97]\n",
            " [-1.    0.    1.  ]]\n"
          ]
        }
      ],
      "source": [
        "import numpy as np\n",
        "from math import *\n",
        "matriz = np.array([[1,3,3],[-8,10,9],[1,3,4]])\n",
        "determ = np.linalg.det( matriz )\n",
        "print(\"%.2f\" %determ)\n",
        "inv = np.linalg.inv( matriz )\n",
        "print(np.round(inv,2))"
      ]
    },
    {
      "cell_type": "code",
      "execution_count": null,
      "metadata": {},
      "outputs": [],
      "source": [
        "#7)Calcular AxB e BxA"
      ]
    },
    {
      "cell_type": "code",
      "execution_count": 35,
      "metadata": {},
      "outputs": [
        {
          "name": "stdout",
          "output_type": "stream",
          "text": [
            "D=\n",
            " [[ 10  19  19  47]\n",
            " [ 55  18 -14  62]\n",
            " [ 11  19  17  51]]\n"
          ]
        }
      ],
      "source": [
        "import numpy as np\n",
        "from math import *\n",
        "A =np.array([[-2,4,7,8],[3,5,6,9],[1,0,-2,4]])\n",
        "B = np.array([[1,3,3],[-8,10,9],[1,3,4]])\n",
        "D=np.dot(B,A)\n",
        "print('D=\\n',D)\n",
        "#não é possível multiplicar a por b "
      ]
    }
  ],
  "metadata": {
    "colab": {
      "provenance": []
    },
    "kernelspec": {
      "display_name": "Python 3.8.8 ('base')",
      "language": "python",
      "name": "python3"
    },
    "language_info": {
      "codemirror_mode": {
        "name": "ipython",
        "version": 3
      },
      "file_extension": ".py",
      "mimetype": "text/x-python",
      "name": "python",
      "nbconvert_exporter": "python",
      "pygments_lexer": "ipython3",
      "version": "3.10.10"
    },
    "vscode": {
      "interpreter": {
        "hash": "ad2bdc8ecc057115af97d19610ffacc2b4e99fae6737bb82f5d7fb13d2f2c186"
      }
    }
  },
  "nbformat": 4,
  "nbformat_minor": 0
}
